{
  "cells": [
    {
      "cell_type": "markdown",
      "metadata": {
        "id": "67dRYOZjH5Cu"
      },
      "source": [
        "# Essential Modules"
      ]
    },
    {
      "cell_type": "code",
      "execution_count": 1,
      "metadata": {
        "id": "2-fr_wOnH4GZ"
      },
      "outputs": [],
      "source": [
        "import pandas as pd\n",
        "from sklearn.utils import resample\n",
        "from sklearn.preprocessing import MinMaxScaler\n",
        "import seaborn as sns\n",
        "import matplotlib.pyplot as plt\n",
        "import numpy as np\n",
        "from sklearn.ensemble import ExtraTreesClassifier\n",
        "from sklearn.feature_selection import RFE\n",
        "from sklearn.linear_model import LogisticRegression\n",
        "from sklearn.feature_selection import SelectFromModel\n",
        "from sklearn.feature_selection import SelectKBest, f_classif, chi2\n",
        "from sklearn.model_selection import cross_val_score\n"
      ]
    },
    {
      "cell_type": "code",
      "execution_count": 29,
      "metadata": {},
      "outputs": [],
      "source": [
        "from sklearn.model_selection import train_test_split\n",
        "from sklearn.ensemble import RandomForestClassifier\n",
        "from sklearn.metrics import f1_score,confusion_matrix\n",
        "from sklearn.metrics import accuracy_score"
      ]
    },
    {
      "cell_type": "markdown",
      "metadata": {
        "id": "s8Mho1weICTU"
      },
      "source": [
        "## **Read and Load Data**"
      ]
    },
    {
      "cell_type": "code",
      "execution_count": 2,
      "metadata": {
        "id": "YCZBKzgxFavC"
      },
      "outputs": [],
      "source": [
        "df = pd.read_csv('data.csv')"
      ]
    },
    {
      "cell_type": "code",
      "execution_count": 3,
      "metadata": {
        "colab": {
          "base_uri": "https://localhost:8080/"
        },
        "id": "SWUMAzpeN8KX",
        "outputId": "c28c2790-821b-4263-d7f9-1f1495327bd3"
      },
      "outputs": [
        {
          "data": {
            "text/plain": [
              "Index(['id', 'diagnosis', 'radius_mean', 'texture_mean', 'perimeter_mean',\n",
              "       'area_mean', 'smoothness_mean', 'compactness_mean', 'concavity_mean',\n",
              "       'concave points_mean', 'symmetry_mean', 'fractal_dimension_mean',\n",
              "       'radius_se', 'texture_se', 'perimeter_se', 'area_se', 'smoothness_se',\n",
              "       'compactness_se', 'concavity_se', 'concave points_se', 'symmetry_se',\n",
              "       'fractal_dimension_se', 'radius_worst', 'texture_worst',\n",
              "       'perimeter_worst', 'area_worst', 'smoothness_worst',\n",
              "       'compactness_worst', 'concavity_worst', 'concave points_worst',\n",
              "       'symmetry_worst', 'fractal_dimension_worst', 'Unnamed: 32'],\n",
              "      dtype='object')"
            ]
          },
          "execution_count": 3,
          "metadata": {},
          "output_type": "execute_result"
        }
      ],
      "source": [
        "df.columns"
      ]
    },
    {
      "cell_type": "code",
      "execution_count": 4,
      "metadata": {
        "colab": {
          "base_uri": "https://localhost:8080/",
          "height": 273
        },
        "id": "r6v9Q-1iHY1J",
        "outputId": "df005feb-95aa-4865-ac6c-d41bcbb51ac0"
      },
      "outputs": [
        {
          "data": {
            "text/html": [
              "<div>\n",
              "<style scoped>\n",
              "    .dataframe tbody tr th:only-of-type {\n",
              "        vertical-align: middle;\n",
              "    }\n",
              "\n",
              "    .dataframe tbody tr th {\n",
              "        vertical-align: top;\n",
              "    }\n",
              "\n",
              "    .dataframe thead th {\n",
              "        text-align: right;\n",
              "    }\n",
              "</style>\n",
              "<table border=\"1\" class=\"dataframe\">\n",
              "  <thead>\n",
              "    <tr style=\"text-align: right;\">\n",
              "      <th></th>\n",
              "      <th>id</th>\n",
              "      <th>diagnosis</th>\n",
              "      <th>radius_mean</th>\n",
              "      <th>texture_mean</th>\n",
              "      <th>perimeter_mean</th>\n",
              "      <th>area_mean</th>\n",
              "      <th>smoothness_mean</th>\n",
              "      <th>compactness_mean</th>\n",
              "      <th>concavity_mean</th>\n",
              "      <th>concave points_mean</th>\n",
              "      <th>...</th>\n",
              "      <th>texture_worst</th>\n",
              "      <th>perimeter_worst</th>\n",
              "      <th>area_worst</th>\n",
              "      <th>smoothness_worst</th>\n",
              "      <th>compactness_worst</th>\n",
              "      <th>concavity_worst</th>\n",
              "      <th>concave points_worst</th>\n",
              "      <th>symmetry_worst</th>\n",
              "      <th>fractal_dimension_worst</th>\n",
              "      <th>Unnamed: 32</th>\n",
              "    </tr>\n",
              "  </thead>\n",
              "  <tbody>\n",
              "    <tr>\n",
              "      <th>0</th>\n",
              "      <td>842302</td>\n",
              "      <td>M</td>\n",
              "      <td>17.99</td>\n",
              "      <td>10.38</td>\n",
              "      <td>122.80</td>\n",
              "      <td>1001.0</td>\n",
              "      <td>0.11840</td>\n",
              "      <td>0.27760</td>\n",
              "      <td>0.3001</td>\n",
              "      <td>0.14710</td>\n",
              "      <td>...</td>\n",
              "      <td>17.33</td>\n",
              "      <td>184.60</td>\n",
              "      <td>2019.0</td>\n",
              "      <td>0.1622</td>\n",
              "      <td>0.6656</td>\n",
              "      <td>0.7119</td>\n",
              "      <td>0.2654</td>\n",
              "      <td>0.4601</td>\n",
              "      <td>0.11890</td>\n",
              "      <td>NaN</td>\n",
              "    </tr>\n",
              "    <tr>\n",
              "      <th>1</th>\n",
              "      <td>842517</td>\n",
              "      <td>M</td>\n",
              "      <td>20.57</td>\n",
              "      <td>17.77</td>\n",
              "      <td>132.90</td>\n",
              "      <td>1326.0</td>\n",
              "      <td>0.08474</td>\n",
              "      <td>0.07864</td>\n",
              "      <td>0.0869</td>\n",
              "      <td>0.07017</td>\n",
              "      <td>...</td>\n",
              "      <td>23.41</td>\n",
              "      <td>158.80</td>\n",
              "      <td>1956.0</td>\n",
              "      <td>0.1238</td>\n",
              "      <td>0.1866</td>\n",
              "      <td>0.2416</td>\n",
              "      <td>0.1860</td>\n",
              "      <td>0.2750</td>\n",
              "      <td>0.08902</td>\n",
              "      <td>NaN</td>\n",
              "    </tr>\n",
              "    <tr>\n",
              "      <th>2</th>\n",
              "      <td>84300903</td>\n",
              "      <td>M</td>\n",
              "      <td>19.69</td>\n",
              "      <td>21.25</td>\n",
              "      <td>130.00</td>\n",
              "      <td>1203.0</td>\n",
              "      <td>0.10960</td>\n",
              "      <td>0.15990</td>\n",
              "      <td>0.1974</td>\n",
              "      <td>0.12790</td>\n",
              "      <td>...</td>\n",
              "      <td>25.53</td>\n",
              "      <td>152.50</td>\n",
              "      <td>1709.0</td>\n",
              "      <td>0.1444</td>\n",
              "      <td>0.4245</td>\n",
              "      <td>0.4504</td>\n",
              "      <td>0.2430</td>\n",
              "      <td>0.3613</td>\n",
              "      <td>0.08758</td>\n",
              "      <td>NaN</td>\n",
              "    </tr>\n",
              "    <tr>\n",
              "      <th>3</th>\n",
              "      <td>84348301</td>\n",
              "      <td>M</td>\n",
              "      <td>11.42</td>\n",
              "      <td>20.38</td>\n",
              "      <td>77.58</td>\n",
              "      <td>386.1</td>\n",
              "      <td>0.14250</td>\n",
              "      <td>0.28390</td>\n",
              "      <td>0.2414</td>\n",
              "      <td>0.10520</td>\n",
              "      <td>...</td>\n",
              "      <td>26.50</td>\n",
              "      <td>98.87</td>\n",
              "      <td>567.7</td>\n",
              "      <td>0.2098</td>\n",
              "      <td>0.8663</td>\n",
              "      <td>0.6869</td>\n",
              "      <td>0.2575</td>\n",
              "      <td>0.6638</td>\n",
              "      <td>0.17300</td>\n",
              "      <td>NaN</td>\n",
              "    </tr>\n",
              "    <tr>\n",
              "      <th>4</th>\n",
              "      <td>84358402</td>\n",
              "      <td>M</td>\n",
              "      <td>20.29</td>\n",
              "      <td>14.34</td>\n",
              "      <td>135.10</td>\n",
              "      <td>1297.0</td>\n",
              "      <td>0.10030</td>\n",
              "      <td>0.13280</td>\n",
              "      <td>0.1980</td>\n",
              "      <td>0.10430</td>\n",
              "      <td>...</td>\n",
              "      <td>16.67</td>\n",
              "      <td>152.20</td>\n",
              "      <td>1575.0</td>\n",
              "      <td>0.1374</td>\n",
              "      <td>0.2050</td>\n",
              "      <td>0.4000</td>\n",
              "      <td>0.1625</td>\n",
              "      <td>0.2364</td>\n",
              "      <td>0.07678</td>\n",
              "      <td>NaN</td>\n",
              "    </tr>\n",
              "  </tbody>\n",
              "</table>\n",
              "<p>5 rows × 33 columns</p>\n",
              "</div>"
            ],
            "text/plain": [
              "         id diagnosis  radius_mean  texture_mean  perimeter_mean  area_mean  \\\n",
              "0    842302         M        17.99         10.38          122.80     1001.0   \n",
              "1    842517         M        20.57         17.77          132.90     1326.0   \n",
              "2  84300903         M        19.69         21.25          130.00     1203.0   \n",
              "3  84348301         M        11.42         20.38           77.58      386.1   \n",
              "4  84358402         M        20.29         14.34          135.10     1297.0   \n",
              "\n",
              "   smoothness_mean  compactness_mean  concavity_mean  concave points_mean  \\\n",
              "0          0.11840           0.27760          0.3001              0.14710   \n",
              "1          0.08474           0.07864          0.0869              0.07017   \n",
              "2          0.10960           0.15990          0.1974              0.12790   \n",
              "3          0.14250           0.28390          0.2414              0.10520   \n",
              "4          0.10030           0.13280          0.1980              0.10430   \n",
              "\n",
              "   ...  texture_worst  perimeter_worst  area_worst  smoothness_worst  \\\n",
              "0  ...          17.33           184.60      2019.0            0.1622   \n",
              "1  ...          23.41           158.80      1956.0            0.1238   \n",
              "2  ...          25.53           152.50      1709.0            0.1444   \n",
              "3  ...          26.50            98.87       567.7            0.2098   \n",
              "4  ...          16.67           152.20      1575.0            0.1374   \n",
              "\n",
              "   compactness_worst  concavity_worst  concave points_worst  symmetry_worst  \\\n",
              "0             0.6656           0.7119                0.2654          0.4601   \n",
              "1             0.1866           0.2416                0.1860          0.2750   \n",
              "2             0.4245           0.4504                0.2430          0.3613   \n",
              "3             0.8663           0.6869                0.2575          0.6638   \n",
              "4             0.2050           0.4000                0.1625          0.2364   \n",
              "\n",
              "   fractal_dimension_worst  Unnamed: 32  \n",
              "0                  0.11890          NaN  \n",
              "1                  0.08902          NaN  \n",
              "2                  0.08758          NaN  \n",
              "3                  0.17300          NaN  \n",
              "4                  0.07678          NaN  \n",
              "\n",
              "[5 rows x 33 columns]"
            ]
          },
          "execution_count": 4,
          "metadata": {},
          "output_type": "execute_result"
        }
      ],
      "source": [
        "df.head()"
      ]
    },
    {
      "cell_type": "code",
      "execution_count": 5,
      "metadata": {
        "colab": {
          "base_uri": "https://localhost:8080/"
        },
        "id": "SXgghpBmIN3D",
        "outputId": "c3cda381-f1a6-4d25-9c15-c979928505b6"
      },
      "outputs": [
        {
          "name": "stdout",
          "output_type": "stream",
          "text": [
            "<class 'pandas.core.frame.DataFrame'>\n",
            "RangeIndex: 569 entries, 0 to 568\n",
            "Data columns (total 33 columns):\n",
            " #   Column                   Non-Null Count  Dtype  \n",
            "---  ------                   --------------  -----  \n",
            " 0   id                       569 non-null    int64  \n",
            " 1   diagnosis                569 non-null    object \n",
            " 2   radius_mean              569 non-null    float64\n",
            " 3   texture_mean             569 non-null    float64\n",
            " 4   perimeter_mean           569 non-null    float64\n",
            " 5   area_mean                569 non-null    float64\n",
            " 6   smoothness_mean          569 non-null    float64\n",
            " 7   compactness_mean         569 non-null    float64\n",
            " 8   concavity_mean           569 non-null    float64\n",
            " 9   concave points_mean      569 non-null    float64\n",
            " 10  symmetry_mean            569 non-null    float64\n",
            " 11  fractal_dimension_mean   569 non-null    float64\n",
            " 12  radius_se                569 non-null    float64\n",
            " 13  texture_se               569 non-null    float64\n",
            " 14  perimeter_se             569 non-null    float64\n",
            " 15  area_se                  569 non-null    float64\n",
            " 16  smoothness_se            569 non-null    float64\n",
            " 17  compactness_se           569 non-null    float64\n",
            " 18  concavity_se             569 non-null    float64\n",
            " 19  concave points_se        569 non-null    float64\n",
            " 20  symmetry_se              569 non-null    float64\n",
            " 21  fractal_dimension_se     569 non-null    float64\n",
            " 22  radius_worst             569 non-null    float64\n",
            " 23  texture_worst            569 non-null    float64\n",
            " 24  perimeter_worst          569 non-null    float64\n",
            " 25  area_worst               569 non-null    float64\n",
            " 26  smoothness_worst         569 non-null    float64\n",
            " 27  compactness_worst        569 non-null    float64\n",
            " 28  concavity_worst          569 non-null    float64\n",
            " 29  concave points_worst     569 non-null    float64\n",
            " 30  symmetry_worst           569 non-null    float64\n",
            " 31  fractal_dimension_worst  569 non-null    float64\n",
            " 32  Unnamed: 32              0 non-null      float64\n",
            "dtypes: float64(31), int64(1), object(1)\n",
            "memory usage: 146.8+ KB\n"
          ]
        }
      ],
      "source": [
        "df.info()"
      ]
    },
    {
      "cell_type": "code",
      "execution_count": 6,
      "metadata": {
        "colab": {
          "base_uri": "https://localhost:8080/",
          "height": 367
        },
        "id": "7QsRru1JHZ8W",
        "outputId": "17fad270-fc3e-48d0-8271-8b1f6b49156a"
      },
      "outputs": [
        {
          "data": {
            "text/html": [
              "<div>\n",
              "<style scoped>\n",
              "    .dataframe tbody tr th:only-of-type {\n",
              "        vertical-align: middle;\n",
              "    }\n",
              "\n",
              "    .dataframe tbody tr th {\n",
              "        vertical-align: top;\n",
              "    }\n",
              "\n",
              "    .dataframe thead th {\n",
              "        text-align: right;\n",
              "    }\n",
              "</style>\n",
              "<table border=\"1\" class=\"dataframe\">\n",
              "  <thead>\n",
              "    <tr style=\"text-align: right;\">\n",
              "      <th></th>\n",
              "      <th>id</th>\n",
              "      <th>radius_mean</th>\n",
              "      <th>texture_mean</th>\n",
              "      <th>perimeter_mean</th>\n",
              "      <th>area_mean</th>\n",
              "      <th>smoothness_mean</th>\n",
              "      <th>compactness_mean</th>\n",
              "      <th>concavity_mean</th>\n",
              "      <th>concave points_mean</th>\n",
              "      <th>symmetry_mean</th>\n",
              "      <th>...</th>\n",
              "      <th>texture_worst</th>\n",
              "      <th>perimeter_worst</th>\n",
              "      <th>area_worst</th>\n",
              "      <th>smoothness_worst</th>\n",
              "      <th>compactness_worst</th>\n",
              "      <th>concavity_worst</th>\n",
              "      <th>concave points_worst</th>\n",
              "      <th>symmetry_worst</th>\n",
              "      <th>fractal_dimension_worst</th>\n",
              "      <th>Unnamed: 32</th>\n",
              "    </tr>\n",
              "  </thead>\n",
              "  <tbody>\n",
              "    <tr>\n",
              "      <th>count</th>\n",
              "      <td>5.690000e+02</td>\n",
              "      <td>569.000000</td>\n",
              "      <td>569.000000</td>\n",
              "      <td>569.000000</td>\n",
              "      <td>569.000000</td>\n",
              "      <td>569.000000</td>\n",
              "      <td>569.000000</td>\n",
              "      <td>569.000000</td>\n",
              "      <td>569.000000</td>\n",
              "      <td>569.000000</td>\n",
              "      <td>...</td>\n",
              "      <td>569.000000</td>\n",
              "      <td>569.000000</td>\n",
              "      <td>569.000000</td>\n",
              "      <td>569.000000</td>\n",
              "      <td>569.000000</td>\n",
              "      <td>569.000000</td>\n",
              "      <td>569.000000</td>\n",
              "      <td>569.000000</td>\n",
              "      <td>569.000000</td>\n",
              "      <td>0.0</td>\n",
              "    </tr>\n",
              "    <tr>\n",
              "      <th>mean</th>\n",
              "      <td>3.037183e+07</td>\n",
              "      <td>14.127292</td>\n",
              "      <td>19.289649</td>\n",
              "      <td>91.969033</td>\n",
              "      <td>654.889104</td>\n",
              "      <td>0.096360</td>\n",
              "      <td>0.104341</td>\n",
              "      <td>0.088799</td>\n",
              "      <td>0.048919</td>\n",
              "      <td>0.181162</td>\n",
              "      <td>...</td>\n",
              "      <td>25.677223</td>\n",
              "      <td>107.261213</td>\n",
              "      <td>880.583128</td>\n",
              "      <td>0.132369</td>\n",
              "      <td>0.254265</td>\n",
              "      <td>0.272188</td>\n",
              "      <td>0.114606</td>\n",
              "      <td>0.290076</td>\n",
              "      <td>0.083946</td>\n",
              "      <td>NaN</td>\n",
              "    </tr>\n",
              "    <tr>\n",
              "      <th>std</th>\n",
              "      <td>1.250206e+08</td>\n",
              "      <td>3.524049</td>\n",
              "      <td>4.301036</td>\n",
              "      <td>24.298981</td>\n",
              "      <td>351.914129</td>\n",
              "      <td>0.014064</td>\n",
              "      <td>0.052813</td>\n",
              "      <td>0.079720</td>\n",
              "      <td>0.038803</td>\n",
              "      <td>0.027414</td>\n",
              "      <td>...</td>\n",
              "      <td>6.146258</td>\n",
              "      <td>33.602542</td>\n",
              "      <td>569.356993</td>\n",
              "      <td>0.022832</td>\n",
              "      <td>0.157336</td>\n",
              "      <td>0.208624</td>\n",
              "      <td>0.065732</td>\n",
              "      <td>0.061867</td>\n",
              "      <td>0.018061</td>\n",
              "      <td>NaN</td>\n",
              "    </tr>\n",
              "    <tr>\n",
              "      <th>min</th>\n",
              "      <td>8.670000e+03</td>\n",
              "      <td>6.981000</td>\n",
              "      <td>9.710000</td>\n",
              "      <td>43.790000</td>\n",
              "      <td>143.500000</td>\n",
              "      <td>0.052630</td>\n",
              "      <td>0.019380</td>\n",
              "      <td>0.000000</td>\n",
              "      <td>0.000000</td>\n",
              "      <td>0.106000</td>\n",
              "      <td>...</td>\n",
              "      <td>12.020000</td>\n",
              "      <td>50.410000</td>\n",
              "      <td>185.200000</td>\n",
              "      <td>0.071170</td>\n",
              "      <td>0.027290</td>\n",
              "      <td>0.000000</td>\n",
              "      <td>0.000000</td>\n",
              "      <td>0.156500</td>\n",
              "      <td>0.055040</td>\n",
              "      <td>NaN</td>\n",
              "    </tr>\n",
              "    <tr>\n",
              "      <th>25%</th>\n",
              "      <td>8.692180e+05</td>\n",
              "      <td>11.700000</td>\n",
              "      <td>16.170000</td>\n",
              "      <td>75.170000</td>\n",
              "      <td>420.300000</td>\n",
              "      <td>0.086370</td>\n",
              "      <td>0.064920</td>\n",
              "      <td>0.029560</td>\n",
              "      <td>0.020310</td>\n",
              "      <td>0.161900</td>\n",
              "      <td>...</td>\n",
              "      <td>21.080000</td>\n",
              "      <td>84.110000</td>\n",
              "      <td>515.300000</td>\n",
              "      <td>0.116600</td>\n",
              "      <td>0.147200</td>\n",
              "      <td>0.114500</td>\n",
              "      <td>0.064930</td>\n",
              "      <td>0.250400</td>\n",
              "      <td>0.071460</td>\n",
              "      <td>NaN</td>\n",
              "    </tr>\n",
              "    <tr>\n",
              "      <th>50%</th>\n",
              "      <td>9.060240e+05</td>\n",
              "      <td>13.370000</td>\n",
              "      <td>18.840000</td>\n",
              "      <td>86.240000</td>\n",
              "      <td>551.100000</td>\n",
              "      <td>0.095870</td>\n",
              "      <td>0.092630</td>\n",
              "      <td>0.061540</td>\n",
              "      <td>0.033500</td>\n",
              "      <td>0.179200</td>\n",
              "      <td>...</td>\n",
              "      <td>25.410000</td>\n",
              "      <td>97.660000</td>\n",
              "      <td>686.500000</td>\n",
              "      <td>0.131300</td>\n",
              "      <td>0.211900</td>\n",
              "      <td>0.226700</td>\n",
              "      <td>0.099930</td>\n",
              "      <td>0.282200</td>\n",
              "      <td>0.080040</td>\n",
              "      <td>NaN</td>\n",
              "    </tr>\n",
              "    <tr>\n",
              "      <th>75%</th>\n",
              "      <td>8.813129e+06</td>\n",
              "      <td>15.780000</td>\n",
              "      <td>21.800000</td>\n",
              "      <td>104.100000</td>\n",
              "      <td>782.700000</td>\n",
              "      <td>0.105300</td>\n",
              "      <td>0.130400</td>\n",
              "      <td>0.130700</td>\n",
              "      <td>0.074000</td>\n",
              "      <td>0.195700</td>\n",
              "      <td>...</td>\n",
              "      <td>29.720000</td>\n",
              "      <td>125.400000</td>\n",
              "      <td>1084.000000</td>\n",
              "      <td>0.146000</td>\n",
              "      <td>0.339100</td>\n",
              "      <td>0.382900</td>\n",
              "      <td>0.161400</td>\n",
              "      <td>0.317900</td>\n",
              "      <td>0.092080</td>\n",
              "      <td>NaN</td>\n",
              "    </tr>\n",
              "    <tr>\n",
              "      <th>max</th>\n",
              "      <td>9.113205e+08</td>\n",
              "      <td>28.110000</td>\n",
              "      <td>39.280000</td>\n",
              "      <td>188.500000</td>\n",
              "      <td>2501.000000</td>\n",
              "      <td>0.163400</td>\n",
              "      <td>0.345400</td>\n",
              "      <td>0.426800</td>\n",
              "      <td>0.201200</td>\n",
              "      <td>0.304000</td>\n",
              "      <td>...</td>\n",
              "      <td>49.540000</td>\n",
              "      <td>251.200000</td>\n",
              "      <td>4254.000000</td>\n",
              "      <td>0.222600</td>\n",
              "      <td>1.058000</td>\n",
              "      <td>1.252000</td>\n",
              "      <td>0.291000</td>\n",
              "      <td>0.663800</td>\n",
              "      <td>0.207500</td>\n",
              "      <td>NaN</td>\n",
              "    </tr>\n",
              "  </tbody>\n",
              "</table>\n",
              "<p>8 rows × 32 columns</p>\n",
              "</div>"
            ],
            "text/plain": [
              "                 id  radius_mean  texture_mean  perimeter_mean    area_mean  \\\n",
              "count  5.690000e+02   569.000000    569.000000      569.000000   569.000000   \n",
              "mean   3.037183e+07    14.127292     19.289649       91.969033   654.889104   \n",
              "std    1.250206e+08     3.524049      4.301036       24.298981   351.914129   \n",
              "min    8.670000e+03     6.981000      9.710000       43.790000   143.500000   \n",
              "25%    8.692180e+05    11.700000     16.170000       75.170000   420.300000   \n",
              "50%    9.060240e+05    13.370000     18.840000       86.240000   551.100000   \n",
              "75%    8.813129e+06    15.780000     21.800000      104.100000   782.700000   \n",
              "max    9.113205e+08    28.110000     39.280000      188.500000  2501.000000   \n",
              "\n",
              "       smoothness_mean  compactness_mean  concavity_mean  concave points_mean  \\\n",
              "count       569.000000        569.000000      569.000000           569.000000   \n",
              "mean          0.096360          0.104341        0.088799             0.048919   \n",
              "std           0.014064          0.052813        0.079720             0.038803   \n",
              "min           0.052630          0.019380        0.000000             0.000000   \n",
              "25%           0.086370          0.064920        0.029560             0.020310   \n",
              "50%           0.095870          0.092630        0.061540             0.033500   \n",
              "75%           0.105300          0.130400        0.130700             0.074000   \n",
              "max           0.163400          0.345400        0.426800             0.201200   \n",
              "\n",
              "       symmetry_mean  ...  texture_worst  perimeter_worst   area_worst  \\\n",
              "count     569.000000  ...     569.000000       569.000000   569.000000   \n",
              "mean        0.181162  ...      25.677223       107.261213   880.583128   \n",
              "std         0.027414  ...       6.146258        33.602542   569.356993   \n",
              "min         0.106000  ...      12.020000        50.410000   185.200000   \n",
              "25%         0.161900  ...      21.080000        84.110000   515.300000   \n",
              "50%         0.179200  ...      25.410000        97.660000   686.500000   \n",
              "75%         0.195700  ...      29.720000       125.400000  1084.000000   \n",
              "max         0.304000  ...      49.540000       251.200000  4254.000000   \n",
              "\n",
              "       smoothness_worst  compactness_worst  concavity_worst  \\\n",
              "count        569.000000         569.000000       569.000000   \n",
              "mean           0.132369           0.254265         0.272188   \n",
              "std            0.022832           0.157336         0.208624   \n",
              "min            0.071170           0.027290         0.000000   \n",
              "25%            0.116600           0.147200         0.114500   \n",
              "50%            0.131300           0.211900         0.226700   \n",
              "75%            0.146000           0.339100         0.382900   \n",
              "max            0.222600           1.058000         1.252000   \n",
              "\n",
              "       concave points_worst  symmetry_worst  fractal_dimension_worst  \\\n",
              "count            569.000000      569.000000               569.000000   \n",
              "mean               0.114606        0.290076                 0.083946   \n",
              "std                0.065732        0.061867                 0.018061   \n",
              "min                0.000000        0.156500                 0.055040   \n",
              "25%                0.064930        0.250400                 0.071460   \n",
              "50%                0.099930        0.282200                 0.080040   \n",
              "75%                0.161400        0.317900                 0.092080   \n",
              "max                0.291000        0.663800                 0.207500   \n",
              "\n",
              "       Unnamed: 32  \n",
              "count          0.0  \n",
              "mean           NaN  \n",
              "std            NaN  \n",
              "min            NaN  \n",
              "25%            NaN  \n",
              "50%            NaN  \n",
              "75%            NaN  \n",
              "max            NaN  \n",
              "\n",
              "[8 rows x 32 columns]"
            ]
          },
          "execution_count": 6,
          "metadata": {},
          "output_type": "execute_result"
        }
      ],
      "source": [
        "df.describe()"
      ]
    },
    {
      "cell_type": "code",
      "execution_count": 7,
      "metadata": {
        "colab": {
          "base_uri": "https://localhost:8080/"
        },
        "id": "TSgHVnpPIMH4",
        "outputId": "aa946fc4-3501-4eeb-e591-dbbf62bfd228"
      },
      "outputs": [
        {
          "name": "stdout",
          "output_type": "stream",
          "text": [
            "Number of duplicate rows: 0\n"
          ]
        }
      ],
      "source": [
        "duplicates = df[df.duplicated()]\n",
        "print(\"Number of duplicate rows:\", len(duplicates))"
      ]
    },
    {
      "cell_type": "code",
      "execution_count": 8,
      "metadata": {
        "colab": {
          "base_uri": "https://localhost:8080/"
        },
        "id": "Tdzzn9INISxE",
        "outputId": "cb8b0f20-18ee-4826-b2b1-b1cc606c9b10"
      },
      "outputs": [
        {
          "data": {
            "text/plain": [
              "id                           0\n",
              "diagnosis                    0\n",
              "radius_mean                  0\n",
              "texture_mean                 0\n",
              "perimeter_mean               0\n",
              "area_mean                    0\n",
              "smoothness_mean              0\n",
              "compactness_mean             0\n",
              "concavity_mean               0\n",
              "concave points_mean          0\n",
              "symmetry_mean                0\n",
              "fractal_dimension_mean       0\n",
              "radius_se                    0\n",
              "texture_se                   0\n",
              "perimeter_se                 0\n",
              "area_se                      0\n",
              "smoothness_se                0\n",
              "compactness_se               0\n",
              "concavity_se                 0\n",
              "concave points_se            0\n",
              "symmetry_se                  0\n",
              "fractal_dimension_se         0\n",
              "radius_worst                 0\n",
              "texture_worst                0\n",
              "perimeter_worst              0\n",
              "area_worst                   0\n",
              "smoothness_worst             0\n",
              "compactness_worst            0\n",
              "concavity_worst              0\n",
              "concave points_worst         0\n",
              "symmetry_worst               0\n",
              "fractal_dimension_worst      0\n",
              "Unnamed: 32                569\n",
              "dtype: int64"
            ]
          },
          "execution_count": 8,
          "metadata": {},
          "output_type": "execute_result"
        }
      ],
      "source": [
        "df.isna().sum()"
      ]
    },
    {
      "cell_type": "code",
      "execution_count": 9,
      "metadata": {
        "id": "PEBrFYBFJLqj"
      },
      "outputs": [],
      "source": [
        "df.drop('Unnamed: 32', axis = 1, inplace = True)"
      ]
    },
    {
      "cell_type": "code",
      "execution_count": 10,
      "metadata": {
        "id": "ReHILrKAVQuu"
      },
      "outputs": [],
      "source": [
        "df.drop('id', axis = 1, inplace = True)"
      ]
    },
    {
      "cell_type": "code",
      "execution_count": 11,
      "metadata": {
        "colab": {
          "base_uri": "https://localhost:8080/"
        },
        "id": "qVb3Oyp-PkVm",
        "outputId": "853cdbfa-2c03-49a6-8e14-aa80c84c9d88"
      },
      "outputs": [
        {
          "data": {
            "text/plain": [
              "B    357\n",
              "M    212\n",
              "Name: diagnosis, dtype: int64"
            ]
          },
          "execution_count": 11,
          "metadata": {},
          "output_type": "execute_result"
        }
      ],
      "source": [
        "df['diagnosis'].value_counts()"
      ]
    },
    {
      "cell_type": "code",
      "execution_count": 12,
      "metadata": {
        "colab": {
          "base_uri": "https://localhost:8080/",
          "height": 273
        },
        "id": "cSi5ISZoNza6",
        "outputId": "50f159f5-bd1b-4810-d2cf-20cecccb0140"
      },
      "outputs": [
        {
          "data": {
            "text/html": [
              "<div>\n",
              "<style scoped>\n",
              "    .dataframe tbody tr th:only-of-type {\n",
              "        vertical-align: middle;\n",
              "    }\n",
              "\n",
              "    .dataframe tbody tr th {\n",
              "        vertical-align: top;\n",
              "    }\n",
              "\n",
              "    .dataframe thead th {\n",
              "        text-align: right;\n",
              "    }\n",
              "</style>\n",
              "<table border=\"1\" class=\"dataframe\">\n",
              "  <thead>\n",
              "    <tr style=\"text-align: right;\">\n",
              "      <th></th>\n",
              "      <th>radius_mean</th>\n",
              "      <th>texture_mean</th>\n",
              "      <th>perimeter_mean</th>\n",
              "      <th>area_mean</th>\n",
              "      <th>smoothness_mean</th>\n",
              "      <th>compactness_mean</th>\n",
              "      <th>concavity_mean</th>\n",
              "      <th>concave points_mean</th>\n",
              "      <th>symmetry_mean</th>\n",
              "      <th>fractal_dimension_mean</th>\n",
              "      <th>...</th>\n",
              "      <th>texture_worst</th>\n",
              "      <th>perimeter_worst</th>\n",
              "      <th>area_worst</th>\n",
              "      <th>smoothness_worst</th>\n",
              "      <th>compactness_worst</th>\n",
              "      <th>concavity_worst</th>\n",
              "      <th>concave points_worst</th>\n",
              "      <th>symmetry_worst</th>\n",
              "      <th>fractal_dimension_worst</th>\n",
              "      <th>diagnosis_encoded</th>\n",
              "    </tr>\n",
              "  </thead>\n",
              "  <tbody>\n",
              "    <tr>\n",
              "      <th>0</th>\n",
              "      <td>17.99</td>\n",
              "      <td>10.38</td>\n",
              "      <td>122.80</td>\n",
              "      <td>1001.0</td>\n",
              "      <td>0.11840</td>\n",
              "      <td>0.27760</td>\n",
              "      <td>0.3001</td>\n",
              "      <td>0.14710</td>\n",
              "      <td>0.2419</td>\n",
              "      <td>0.07871</td>\n",
              "      <td>...</td>\n",
              "      <td>17.33</td>\n",
              "      <td>184.60</td>\n",
              "      <td>2019.0</td>\n",
              "      <td>0.1622</td>\n",
              "      <td>0.6656</td>\n",
              "      <td>0.7119</td>\n",
              "      <td>0.2654</td>\n",
              "      <td>0.4601</td>\n",
              "      <td>0.11890</td>\n",
              "      <td>1</td>\n",
              "    </tr>\n",
              "    <tr>\n",
              "      <th>1</th>\n",
              "      <td>20.57</td>\n",
              "      <td>17.77</td>\n",
              "      <td>132.90</td>\n",
              "      <td>1326.0</td>\n",
              "      <td>0.08474</td>\n",
              "      <td>0.07864</td>\n",
              "      <td>0.0869</td>\n",
              "      <td>0.07017</td>\n",
              "      <td>0.1812</td>\n",
              "      <td>0.05667</td>\n",
              "      <td>...</td>\n",
              "      <td>23.41</td>\n",
              "      <td>158.80</td>\n",
              "      <td>1956.0</td>\n",
              "      <td>0.1238</td>\n",
              "      <td>0.1866</td>\n",
              "      <td>0.2416</td>\n",
              "      <td>0.1860</td>\n",
              "      <td>0.2750</td>\n",
              "      <td>0.08902</td>\n",
              "      <td>1</td>\n",
              "    </tr>\n",
              "    <tr>\n",
              "      <th>2</th>\n",
              "      <td>19.69</td>\n",
              "      <td>21.25</td>\n",
              "      <td>130.00</td>\n",
              "      <td>1203.0</td>\n",
              "      <td>0.10960</td>\n",
              "      <td>0.15990</td>\n",
              "      <td>0.1974</td>\n",
              "      <td>0.12790</td>\n",
              "      <td>0.2069</td>\n",
              "      <td>0.05999</td>\n",
              "      <td>...</td>\n",
              "      <td>25.53</td>\n",
              "      <td>152.50</td>\n",
              "      <td>1709.0</td>\n",
              "      <td>0.1444</td>\n",
              "      <td>0.4245</td>\n",
              "      <td>0.4504</td>\n",
              "      <td>0.2430</td>\n",
              "      <td>0.3613</td>\n",
              "      <td>0.08758</td>\n",
              "      <td>1</td>\n",
              "    </tr>\n",
              "    <tr>\n",
              "      <th>3</th>\n",
              "      <td>11.42</td>\n",
              "      <td>20.38</td>\n",
              "      <td>77.58</td>\n",
              "      <td>386.1</td>\n",
              "      <td>0.14250</td>\n",
              "      <td>0.28390</td>\n",
              "      <td>0.2414</td>\n",
              "      <td>0.10520</td>\n",
              "      <td>0.2597</td>\n",
              "      <td>0.09744</td>\n",
              "      <td>...</td>\n",
              "      <td>26.50</td>\n",
              "      <td>98.87</td>\n",
              "      <td>567.7</td>\n",
              "      <td>0.2098</td>\n",
              "      <td>0.8663</td>\n",
              "      <td>0.6869</td>\n",
              "      <td>0.2575</td>\n",
              "      <td>0.6638</td>\n",
              "      <td>0.17300</td>\n",
              "      <td>1</td>\n",
              "    </tr>\n",
              "    <tr>\n",
              "      <th>4</th>\n",
              "      <td>20.29</td>\n",
              "      <td>14.34</td>\n",
              "      <td>135.10</td>\n",
              "      <td>1297.0</td>\n",
              "      <td>0.10030</td>\n",
              "      <td>0.13280</td>\n",
              "      <td>0.1980</td>\n",
              "      <td>0.10430</td>\n",
              "      <td>0.1809</td>\n",
              "      <td>0.05883</td>\n",
              "      <td>...</td>\n",
              "      <td>16.67</td>\n",
              "      <td>152.20</td>\n",
              "      <td>1575.0</td>\n",
              "      <td>0.1374</td>\n",
              "      <td>0.2050</td>\n",
              "      <td>0.4000</td>\n",
              "      <td>0.1625</td>\n",
              "      <td>0.2364</td>\n",
              "      <td>0.07678</td>\n",
              "      <td>1</td>\n",
              "    </tr>\n",
              "  </tbody>\n",
              "</table>\n",
              "<p>5 rows × 31 columns</p>\n",
              "</div>"
            ],
            "text/plain": [
              "   radius_mean  texture_mean  perimeter_mean  area_mean  smoothness_mean  \\\n",
              "0        17.99         10.38          122.80     1001.0          0.11840   \n",
              "1        20.57         17.77          132.90     1326.0          0.08474   \n",
              "2        19.69         21.25          130.00     1203.0          0.10960   \n",
              "3        11.42         20.38           77.58      386.1          0.14250   \n",
              "4        20.29         14.34          135.10     1297.0          0.10030   \n",
              "\n",
              "   compactness_mean  concavity_mean  concave points_mean  symmetry_mean  \\\n",
              "0           0.27760          0.3001              0.14710         0.2419   \n",
              "1           0.07864          0.0869              0.07017         0.1812   \n",
              "2           0.15990          0.1974              0.12790         0.2069   \n",
              "3           0.28390          0.2414              0.10520         0.2597   \n",
              "4           0.13280          0.1980              0.10430         0.1809   \n",
              "\n",
              "   fractal_dimension_mean  ...  texture_worst  perimeter_worst  area_worst  \\\n",
              "0                 0.07871  ...          17.33           184.60      2019.0   \n",
              "1                 0.05667  ...          23.41           158.80      1956.0   \n",
              "2                 0.05999  ...          25.53           152.50      1709.0   \n",
              "3                 0.09744  ...          26.50            98.87       567.7   \n",
              "4                 0.05883  ...          16.67           152.20      1575.0   \n",
              "\n",
              "   smoothness_worst  compactness_worst  concavity_worst  concave points_worst  \\\n",
              "0            0.1622             0.6656           0.7119                0.2654   \n",
              "1            0.1238             0.1866           0.2416                0.1860   \n",
              "2            0.1444             0.4245           0.4504                0.2430   \n",
              "3            0.2098             0.8663           0.6869                0.2575   \n",
              "4            0.1374             0.2050           0.4000                0.1625   \n",
              "\n",
              "   symmetry_worst  fractal_dimension_worst  diagnosis_encoded  \n",
              "0          0.4601                  0.11890                  1  \n",
              "1          0.2750                  0.08902                  1  \n",
              "2          0.3613                  0.08758                  1  \n",
              "3          0.6638                  0.17300                  1  \n",
              "4          0.2364                  0.07678                  1  \n",
              "\n",
              "[5 rows x 31 columns]"
            ]
          },
          "execution_count": 12,
          "metadata": {},
          "output_type": "execute_result"
        }
      ],
      "source": [
        "#The Diagnosis feature is converted to binary values using one-hot encoding.\n",
        "df['diagnosis_encoded'] = pd.get_dummies(df['diagnosis'], drop_first=True)\n",
        "df.drop('diagnosis',axis = 1 , inplace = True)\n",
        "df.head()"
      ]
    },
    {
      "cell_type": "code",
      "execution_count": 13,
      "metadata": {
        "colab": {
          "base_uri": "https://localhost:8080/"
        },
        "id": "3DdtzhiJQTv6",
        "outputId": "5f6b4c8f-8d71-49ad-ca1d-477ef6d5a3cd"
      },
      "outputs": [
        {
          "data": {
            "text/plain": [
              "0    357\n",
              "1    212\n",
              "Name: diagnosis_encoded, dtype: int64"
            ]
          },
          "execution_count": 13,
          "metadata": {},
          "output_type": "execute_result"
        }
      ],
      "source": [
        "df['diagnosis_encoded'].value_counts()"
      ]
    },
    {
      "cell_type": "code",
      "execution_count": 14,
      "metadata": {
        "id": "7ycffK7tRXZR"
      },
      "outputs": [],
      "source": [
        "features_list = ['radius_mean', 'texture_mean', 'perimeter_mean',\n",
        "       'area_mean', 'smoothness_mean', 'compactness_mean', 'concavity_mean',\n",
        "       'concave points_mean', 'symmetry_mean', 'fractal_dimension_mean',\n",
        "       'radius_se', 'texture_se', 'perimeter_se', 'area_se', 'smoothness_se',\n",
        "       'compactness_se', 'concavity_se', 'concave points_se', 'symmetry_se',\n",
        "       'fractal_dimension_se', 'radius_worst', 'texture_worst',\n",
        "       'perimeter_worst', 'area_worst', 'smoothness_worst',\n",
        "       'compactness_worst', 'concavity_worst', 'concave points_worst',\n",
        "       'symmetry_worst', 'fractal_dimension_worst']"
      ]
    },
    {
      "cell_type": "markdown",
      "metadata": {
        "id": "zz75DTSoX5ud"
      },
      "source": [
        "## All features should be in decimal format with a precision of four digits"
      ]
    },
    {
      "cell_type": "code",
      "execution_count": 15,
      "metadata": {
        "id": "fxxDtI80QXbB"
      },
      "outputs": [],
      "source": [
        "#the features are decimal values with four significant digits\n",
        "for feature in features_list:\n",
        "    df[feature] = df[feature].round(4)"
      ]
    },
    {
      "cell_type": "markdown",
      "metadata": {},
      "source": [
        "# MinMax Scaling"
      ]
    },
    {
      "cell_type": "code",
      "execution_count": 16,
      "metadata": {},
      "outputs": [],
      "source": [
        "#MinMax scaler is also employed to bring the features of the dataset to a uniform range between 0 and 1\n",
        "\n",
        "# Initialize the MinMaxScaler\n",
        "scaler = MinMaxScaler()\n",
        "\n",
        "# Scale the selected columns between 0 and 1\n",
        "df[features_list] = scaler.fit_transform(df[features_list])\n"
      ]
    },
    {
      "cell_type": "code",
      "execution_count": 17,
      "metadata": {},
      "outputs": [
        {
          "data": {
            "text/html": [
              "<div>\n",
              "<style scoped>\n",
              "    .dataframe tbody tr th:only-of-type {\n",
              "        vertical-align: middle;\n",
              "    }\n",
              "\n",
              "    .dataframe tbody tr th {\n",
              "        vertical-align: top;\n",
              "    }\n",
              "\n",
              "    .dataframe thead th {\n",
              "        text-align: right;\n",
              "    }\n",
              "</style>\n",
              "<table border=\"1\" class=\"dataframe\">\n",
              "  <thead>\n",
              "    <tr style=\"text-align: right;\">\n",
              "      <th></th>\n",
              "      <th>radius_mean</th>\n",
              "      <th>texture_mean</th>\n",
              "      <th>perimeter_mean</th>\n",
              "      <th>area_mean</th>\n",
              "      <th>smoothness_mean</th>\n",
              "      <th>compactness_mean</th>\n",
              "      <th>concavity_mean</th>\n",
              "      <th>concave points_mean</th>\n",
              "      <th>symmetry_mean</th>\n",
              "      <th>fractal_dimension_mean</th>\n",
              "      <th>...</th>\n",
              "      <th>texture_worst</th>\n",
              "      <th>perimeter_worst</th>\n",
              "      <th>area_worst</th>\n",
              "      <th>smoothness_worst</th>\n",
              "      <th>compactness_worst</th>\n",
              "      <th>concavity_worst</th>\n",
              "      <th>concave points_worst</th>\n",
              "      <th>symmetry_worst</th>\n",
              "      <th>fractal_dimension_worst</th>\n",
              "      <th>diagnosis_encoded</th>\n",
              "    </tr>\n",
              "  </thead>\n",
              "  <tbody>\n",
              "    <tr>\n",
              "      <th>0</th>\n",
              "      <td>0.521037</td>\n",
              "      <td>0.022658</td>\n",
              "      <td>0.545989</td>\n",
              "      <td>0.363733</td>\n",
              "      <td>0.593863</td>\n",
              "      <td>0.792025</td>\n",
              "      <td>0.703140</td>\n",
              "      <td>0.731113</td>\n",
              "      <td>0.686364</td>\n",
              "      <td>0.605485</td>\n",
              "      <td>...</td>\n",
              "      <td>0.141525</td>\n",
              "      <td>0.668310</td>\n",
              "      <td>0.450698</td>\n",
              "      <td>0.601057</td>\n",
              "      <td>0.619288</td>\n",
              "      <td>0.568610</td>\n",
              "      <td>0.912027</td>\n",
              "      <td>0.598462</td>\n",
              "      <td>0.419016</td>\n",
              "      <td>1</td>\n",
              "    </tr>\n",
              "    <tr>\n",
              "      <th>1</th>\n",
              "      <td>0.643144</td>\n",
              "      <td>0.272574</td>\n",
              "      <td>0.615783</td>\n",
              "      <td>0.501591</td>\n",
              "      <td>0.289711</td>\n",
              "      <td>0.181595</td>\n",
              "      <td>0.203608</td>\n",
              "      <td>0.348907</td>\n",
              "      <td>0.379798</td>\n",
              "      <td>0.141350</td>\n",
              "      <td>...</td>\n",
              "      <td>0.303571</td>\n",
              "      <td>0.539818</td>\n",
              "      <td>0.435214</td>\n",
              "      <td>0.347424</td>\n",
              "      <td>0.154555</td>\n",
              "      <td>0.192971</td>\n",
              "      <td>0.639175</td>\n",
              "      <td>0.233590</td>\n",
              "      <td>0.222951</td>\n",
              "      <td>1</td>\n",
              "    </tr>\n",
              "    <tr>\n",
              "      <th>2</th>\n",
              "      <td>0.601496</td>\n",
              "      <td>0.390260</td>\n",
              "      <td>0.595743</td>\n",
              "      <td>0.449417</td>\n",
              "      <td>0.514440</td>\n",
              "      <td>0.430982</td>\n",
              "      <td>0.462512</td>\n",
              "      <td>0.635686</td>\n",
              "      <td>0.509596</td>\n",
              "      <td>0.210970</td>\n",
              "      <td>...</td>\n",
              "      <td>0.360075</td>\n",
              "      <td>0.508442</td>\n",
              "      <td>0.374508</td>\n",
              "      <td>0.483487</td>\n",
              "      <td>0.385369</td>\n",
              "      <td>0.359744</td>\n",
              "      <td>0.835052</td>\n",
              "      <td>0.403706</td>\n",
              "      <td>0.213770</td>\n",
              "      <td>1</td>\n",
              "    </tr>\n",
              "    <tr>\n",
              "      <th>3</th>\n",
              "      <td>0.210090</td>\n",
              "      <td>0.360839</td>\n",
              "      <td>0.233501</td>\n",
              "      <td>0.102906</td>\n",
              "      <td>0.811372</td>\n",
              "      <td>0.811350</td>\n",
              "      <td>0.565604</td>\n",
              "      <td>0.522863</td>\n",
              "      <td>0.776263</td>\n",
              "      <td>1.000000</td>\n",
              "      <td>...</td>\n",
              "      <td>0.385928</td>\n",
              "      <td>0.241347</td>\n",
              "      <td>0.094008</td>\n",
              "      <td>0.915456</td>\n",
              "      <td>0.814010</td>\n",
              "      <td>0.548642</td>\n",
              "      <td>0.884880</td>\n",
              "      <td>1.000000</td>\n",
              "      <td>0.773770</td>\n",
              "      <td>1</td>\n",
              "    </tr>\n",
              "    <tr>\n",
              "      <th>4</th>\n",
              "      <td>0.629893</td>\n",
              "      <td>0.156578</td>\n",
              "      <td>0.630986</td>\n",
              "      <td>0.489290</td>\n",
              "      <td>0.430505</td>\n",
              "      <td>0.347853</td>\n",
              "      <td>0.463918</td>\n",
              "      <td>0.518390</td>\n",
              "      <td>0.378283</td>\n",
              "      <td>0.185654</td>\n",
              "      <td>...</td>\n",
              "      <td>0.123934</td>\n",
              "      <td>0.506948</td>\n",
              "      <td>0.341575</td>\n",
              "      <td>0.437252</td>\n",
              "      <td>0.172407</td>\n",
              "      <td>0.319489</td>\n",
              "      <td>0.558419</td>\n",
              "      <td>0.157500</td>\n",
              "      <td>0.142951</td>\n",
              "      <td>1</td>\n",
              "    </tr>\n",
              "    <tr>\n",
              "      <th>...</th>\n",
              "      <td>...</td>\n",
              "      <td>...</td>\n",
              "      <td>...</td>\n",
              "      <td>...</td>\n",
              "      <td>...</td>\n",
              "      <td>...</td>\n",
              "      <td>...</td>\n",
              "      <td>...</td>\n",
              "      <td>...</td>\n",
              "      <td>...</td>\n",
              "      <td>...</td>\n",
              "      <td>...</td>\n",
              "      <td>...</td>\n",
              "      <td>...</td>\n",
              "      <td>...</td>\n",
              "      <td>...</td>\n",
              "      <td>...</td>\n",
              "      <td>...</td>\n",
              "      <td>...</td>\n",
              "      <td>...</td>\n",
              "      <td>...</td>\n",
              "    </tr>\n",
              "    <tr>\n",
              "      <th>564</th>\n",
              "      <td>0.690000</td>\n",
              "      <td>0.428813</td>\n",
              "      <td>0.678668</td>\n",
              "      <td>0.566490</td>\n",
              "      <td>0.527076</td>\n",
              "      <td>0.296012</td>\n",
              "      <td>0.571462</td>\n",
              "      <td>0.690358</td>\n",
              "      <td>0.336364</td>\n",
              "      <td>0.130802</td>\n",
              "      <td>...</td>\n",
              "      <td>0.383262</td>\n",
              "      <td>0.576174</td>\n",
              "      <td>0.452664</td>\n",
              "      <td>0.461030</td>\n",
              "      <td>0.178519</td>\n",
              "      <td>0.328035</td>\n",
              "      <td>0.761512</td>\n",
              "      <td>0.097575</td>\n",
              "      <td>0.106230</td>\n",
              "      <td>1</td>\n",
              "    </tr>\n",
              "    <tr>\n",
              "      <th>565</th>\n",
              "      <td>0.622320</td>\n",
              "      <td>0.626987</td>\n",
              "      <td>0.604036</td>\n",
              "      <td>0.474019</td>\n",
              "      <td>0.407942</td>\n",
              "      <td>0.257669</td>\n",
              "      <td>0.337395</td>\n",
              "      <td>0.486581</td>\n",
              "      <td>0.349495</td>\n",
              "      <td>0.111814</td>\n",
              "      <td>...</td>\n",
              "      <td>0.699094</td>\n",
              "      <td>0.520892</td>\n",
              "      <td>0.379915</td>\n",
              "      <td>0.299868</td>\n",
              "      <td>0.159988</td>\n",
              "      <td>0.256789</td>\n",
              "      <td>0.559450</td>\n",
              "      <td>0.198502</td>\n",
              "      <td>0.074754</td>\n",
              "      <td>1</td>\n",
              "    </tr>\n",
              "    <tr>\n",
              "      <th>566</th>\n",
              "      <td>0.455251</td>\n",
              "      <td>0.621238</td>\n",
              "      <td>0.445788</td>\n",
              "      <td>0.303118</td>\n",
              "      <td>0.288809</td>\n",
              "      <td>0.254294</td>\n",
              "      <td>0.216729</td>\n",
              "      <td>0.263419</td>\n",
              "      <td>0.267677</td>\n",
              "      <td>0.137131</td>\n",
              "      <td>...</td>\n",
              "      <td>0.589019</td>\n",
              "      <td>0.379949</td>\n",
              "      <td>0.230731</td>\n",
              "      <td>0.282034</td>\n",
              "      <td>0.273697</td>\n",
              "      <td>0.271805</td>\n",
              "      <td>0.487285</td>\n",
              "      <td>0.128721</td>\n",
              "      <td>0.152131</td>\n",
              "      <td>1</td>\n",
              "    </tr>\n",
              "    <tr>\n",
              "      <th>567</th>\n",
              "      <td>0.644564</td>\n",
              "      <td>0.663510</td>\n",
              "      <td>0.665538</td>\n",
              "      <td>0.475716</td>\n",
              "      <td>0.588448</td>\n",
              "      <td>0.790184</td>\n",
              "      <td>0.823336</td>\n",
              "      <td>0.755467</td>\n",
              "      <td>0.675253</td>\n",
              "      <td>0.426160</td>\n",
              "      <td>...</td>\n",
              "      <td>0.730277</td>\n",
              "      <td>0.668310</td>\n",
              "      <td>0.402035</td>\n",
              "      <td>0.619551</td>\n",
              "      <td>0.815756</td>\n",
              "      <td>0.749760</td>\n",
              "      <td>0.910653</td>\n",
              "      <td>0.497142</td>\n",
              "      <td>0.452459</td>\n",
              "      <td>1</td>\n",
              "    </tr>\n",
              "    <tr>\n",
              "      <th>568</th>\n",
              "      <td>0.036869</td>\n",
              "      <td>0.501522</td>\n",
              "      <td>0.028540</td>\n",
              "      <td>0.015907</td>\n",
              "      <td>0.000000</td>\n",
              "      <td>0.074233</td>\n",
              "      <td>0.000000</td>\n",
              "      <td>0.000000</td>\n",
              "      <td>0.266162</td>\n",
              "      <td>0.185654</td>\n",
              "      <td>...</td>\n",
              "      <td>0.489072</td>\n",
              "      <td>0.043578</td>\n",
              "      <td>0.020497</td>\n",
              "      <td>0.124174</td>\n",
              "      <td>0.035995</td>\n",
              "      <td>0.000000</td>\n",
              "      <td>0.000000</td>\n",
              "      <td>0.257441</td>\n",
              "      <td>0.100984</td>\n",
              "      <td>0</td>\n",
              "    </tr>\n",
              "  </tbody>\n",
              "</table>\n",
              "<p>569 rows × 31 columns</p>\n",
              "</div>"
            ],
            "text/plain": [
              "     radius_mean  texture_mean  perimeter_mean  area_mean  smoothness_mean  \\\n",
              "0       0.521037      0.022658        0.545989   0.363733         0.593863   \n",
              "1       0.643144      0.272574        0.615783   0.501591         0.289711   \n",
              "2       0.601496      0.390260        0.595743   0.449417         0.514440   \n",
              "3       0.210090      0.360839        0.233501   0.102906         0.811372   \n",
              "4       0.629893      0.156578        0.630986   0.489290         0.430505   \n",
              "..           ...           ...             ...        ...              ...   \n",
              "564     0.690000      0.428813        0.678668   0.566490         0.527076   \n",
              "565     0.622320      0.626987        0.604036   0.474019         0.407942   \n",
              "566     0.455251      0.621238        0.445788   0.303118         0.288809   \n",
              "567     0.644564      0.663510        0.665538   0.475716         0.588448   \n",
              "568     0.036869      0.501522        0.028540   0.015907         0.000000   \n",
              "\n",
              "     compactness_mean  concavity_mean  concave points_mean  symmetry_mean  \\\n",
              "0            0.792025        0.703140             0.731113       0.686364   \n",
              "1            0.181595        0.203608             0.348907       0.379798   \n",
              "2            0.430982        0.462512             0.635686       0.509596   \n",
              "3            0.811350        0.565604             0.522863       0.776263   \n",
              "4            0.347853        0.463918             0.518390       0.378283   \n",
              "..                ...             ...                  ...            ...   \n",
              "564          0.296012        0.571462             0.690358       0.336364   \n",
              "565          0.257669        0.337395             0.486581       0.349495   \n",
              "566          0.254294        0.216729             0.263419       0.267677   \n",
              "567          0.790184        0.823336             0.755467       0.675253   \n",
              "568          0.074233        0.000000             0.000000       0.266162   \n",
              "\n",
              "     fractal_dimension_mean  ...  texture_worst  perimeter_worst  area_worst  \\\n",
              "0                  0.605485  ...       0.141525         0.668310    0.450698   \n",
              "1                  0.141350  ...       0.303571         0.539818    0.435214   \n",
              "2                  0.210970  ...       0.360075         0.508442    0.374508   \n",
              "3                  1.000000  ...       0.385928         0.241347    0.094008   \n",
              "4                  0.185654  ...       0.123934         0.506948    0.341575   \n",
              "..                      ...  ...            ...              ...         ...   \n",
              "564                0.130802  ...       0.383262         0.576174    0.452664   \n",
              "565                0.111814  ...       0.699094         0.520892    0.379915   \n",
              "566                0.137131  ...       0.589019         0.379949    0.230731   \n",
              "567                0.426160  ...       0.730277         0.668310    0.402035   \n",
              "568                0.185654  ...       0.489072         0.043578    0.020497   \n",
              "\n",
              "     smoothness_worst  compactness_worst  concavity_worst  \\\n",
              "0            0.601057           0.619288         0.568610   \n",
              "1            0.347424           0.154555         0.192971   \n",
              "2            0.483487           0.385369         0.359744   \n",
              "3            0.915456           0.814010         0.548642   \n",
              "4            0.437252           0.172407         0.319489   \n",
              "..                ...                ...              ...   \n",
              "564          0.461030           0.178519         0.328035   \n",
              "565          0.299868           0.159988         0.256789   \n",
              "566          0.282034           0.273697         0.271805   \n",
              "567          0.619551           0.815756         0.749760   \n",
              "568          0.124174           0.035995         0.000000   \n",
              "\n",
              "     concave points_worst  symmetry_worst  fractal_dimension_worst  \\\n",
              "0                0.912027        0.598462                 0.419016   \n",
              "1                0.639175        0.233590                 0.222951   \n",
              "2                0.835052        0.403706                 0.213770   \n",
              "3                0.884880        1.000000                 0.773770   \n",
              "4                0.558419        0.157500                 0.142951   \n",
              "..                    ...             ...                      ...   \n",
              "564              0.761512        0.097575                 0.106230   \n",
              "565              0.559450        0.198502                 0.074754   \n",
              "566              0.487285        0.128721                 0.152131   \n",
              "567              0.910653        0.497142                 0.452459   \n",
              "568              0.000000        0.257441                 0.100984   \n",
              "\n",
              "     diagnosis_encoded  \n",
              "0                    1  \n",
              "1                    1  \n",
              "2                    1  \n",
              "3                    1  \n",
              "4                    1  \n",
              "..                 ...  \n",
              "564                  1  \n",
              "565                  1  \n",
              "566                  1  \n",
              "567                  1  \n",
              "568                  0  \n",
              "\n",
              "[569 rows x 31 columns]"
            ]
          },
          "execution_count": 17,
          "metadata": {},
          "output_type": "execute_result"
        }
      ],
      "source": [
        "df"
      ]
    },
    {
      "cell_type": "markdown",
      "metadata": {
        "id": "3Kjgd-x2X5ue"
      },
      "source": [
        "## Resampling & One hot encoding of diagnosis feature\n"
      ]
    },
    {
      "cell_type": "code",
      "execution_count": 18,
      "metadata": {
        "colab": {
          "base_uri": "https://localhost:8080/",
          "height": 273
        },
        "id": "WuIcyoojRAVd",
        "outputId": "6aadc84e-740e-4513-ae78-228144df1655"
      },
      "outputs": [
        {
          "data": {
            "text/html": [
              "<div>\n",
              "<style scoped>\n",
              "    .dataframe tbody tr th:only-of-type {\n",
              "        vertical-align: middle;\n",
              "    }\n",
              "\n",
              "    .dataframe tbody tr th {\n",
              "        vertical-align: top;\n",
              "    }\n",
              "\n",
              "    .dataframe thead th {\n",
              "        text-align: right;\n",
              "    }\n",
              "</style>\n",
              "<table border=\"1\" class=\"dataframe\">\n",
              "  <thead>\n",
              "    <tr style=\"text-align: right;\">\n",
              "      <th></th>\n",
              "      <th>radius_mean</th>\n",
              "      <th>texture_mean</th>\n",
              "      <th>perimeter_mean</th>\n",
              "      <th>area_mean</th>\n",
              "      <th>smoothness_mean</th>\n",
              "      <th>compactness_mean</th>\n",
              "      <th>concavity_mean</th>\n",
              "      <th>concave points_mean</th>\n",
              "      <th>symmetry_mean</th>\n",
              "      <th>fractal_dimension_mean</th>\n",
              "      <th>...</th>\n",
              "      <th>texture_worst</th>\n",
              "      <th>perimeter_worst</th>\n",
              "      <th>area_worst</th>\n",
              "      <th>smoothness_worst</th>\n",
              "      <th>compactness_worst</th>\n",
              "      <th>concavity_worst</th>\n",
              "      <th>concave points_worst</th>\n",
              "      <th>symmetry_worst</th>\n",
              "      <th>fractal_dimension_worst</th>\n",
              "      <th>diagnosis_encoded</th>\n",
              "    </tr>\n",
              "  </thead>\n",
              "  <tbody>\n",
              "    <tr>\n",
              "      <th>19</th>\n",
              "      <td>0.310426</td>\n",
              "      <td>0.157254</td>\n",
              "      <td>0.301776</td>\n",
              "      <td>0.179343</td>\n",
              "      <td>0.407942</td>\n",
              "      <td>0.189877</td>\n",
              "      <td>0.156045</td>\n",
              "      <td>0.237575</td>\n",
              "      <td>0.416667</td>\n",
              "      <td>0.162447</td>\n",
              "      <td>...</td>\n",
              "      <td>0.192964</td>\n",
              "      <td>0.245480</td>\n",
              "      <td>0.129276</td>\n",
              "      <td>0.480845</td>\n",
              "      <td>0.145532</td>\n",
              "      <td>0.190895</td>\n",
              "      <td>0.442612</td>\n",
              "      <td>0.278336</td>\n",
              "      <td>0.115410</td>\n",
              "      <td>0</td>\n",
              "    </tr>\n",
              "    <tr>\n",
              "      <th>20</th>\n",
              "      <td>0.288655</td>\n",
              "      <td>0.202908</td>\n",
              "      <td>0.289130</td>\n",
              "      <td>0.159703</td>\n",
              "      <td>0.495487</td>\n",
              "      <td>0.330061</td>\n",
              "      <td>0.107076</td>\n",
              "      <td>0.154573</td>\n",
              "      <td>0.458081</td>\n",
              "      <td>0.381857</td>\n",
              "      <td>...</td>\n",
              "      <td>0.225746</td>\n",
              "      <td>0.227501</td>\n",
              "      <td>0.109443</td>\n",
              "      <td>0.396301</td>\n",
              "      <td>0.242845</td>\n",
              "      <td>0.150958</td>\n",
              "      <td>0.250172</td>\n",
              "      <td>0.319141</td>\n",
              "      <td>0.175738</td>\n",
              "      <td>0</td>\n",
              "    </tr>\n",
              "    <tr>\n",
              "      <th>21</th>\n",
              "      <td>0.119409</td>\n",
              "      <td>0.092323</td>\n",
              "      <td>0.114367</td>\n",
              "      <td>0.055313</td>\n",
              "      <td>0.449458</td>\n",
              "      <td>0.139571</td>\n",
              "      <td>0.069353</td>\n",
              "      <td>0.103380</td>\n",
              "      <td>0.381313</td>\n",
              "      <td>0.400844</td>\n",
              "      <td>...</td>\n",
              "      <td>0.097015</td>\n",
              "      <td>0.073310</td>\n",
              "      <td>0.031877</td>\n",
              "      <td>0.404227</td>\n",
              "      <td>0.084894</td>\n",
              "      <td>0.070847</td>\n",
              "      <td>0.214089</td>\n",
              "      <td>0.174453</td>\n",
              "      <td>0.148852</td>\n",
              "      <td>0</td>\n",
              "    </tr>\n",
              "    <tr>\n",
              "      <th>37</th>\n",
              "      <td>0.286289</td>\n",
              "      <td>0.294555</td>\n",
              "      <td>0.268261</td>\n",
              "      <td>0.161315</td>\n",
              "      <td>0.335740</td>\n",
              "      <td>0.056135</td>\n",
              "      <td>0.059981</td>\n",
              "      <td>0.145129</td>\n",
              "      <td>0.205556</td>\n",
              "      <td>0.181435</td>\n",
              "      <td>...</td>\n",
              "      <td>0.287580</td>\n",
              "      <td>0.169580</td>\n",
              "      <td>0.088650</td>\n",
              "      <td>0.170410</td>\n",
              "      <td>0.018337</td>\n",
              "      <td>0.038578</td>\n",
              "      <td>0.172165</td>\n",
              "      <td>0.083185</td>\n",
              "      <td>0.043934</td>\n",
              "      <td>0</td>\n",
              "    </tr>\n",
              "    <tr>\n",
              "      <th>46</th>\n",
              "      <td>0.057504</td>\n",
              "      <td>0.241123</td>\n",
              "      <td>0.054730</td>\n",
              "      <td>0.024772</td>\n",
              "      <td>0.301444</td>\n",
              "      <td>0.122699</td>\n",
              "      <td>0.037254</td>\n",
              "      <td>0.029324</td>\n",
              "      <td>0.358081</td>\n",
              "      <td>0.316456</td>\n",
              "      <td>...</td>\n",
              "      <td>0.264925</td>\n",
              "      <td>0.034115</td>\n",
              "      <td>0.014009</td>\n",
              "      <td>0.386394</td>\n",
              "      <td>0.105171</td>\n",
              "      <td>0.054952</td>\n",
              "      <td>0.087973</td>\n",
              "      <td>0.303568</td>\n",
              "      <td>0.125246</td>\n",
              "      <td>0</td>\n",
              "    </tr>\n",
              "  </tbody>\n",
              "</table>\n",
              "<p>5 rows × 31 columns</p>\n",
              "</div>"
            ],
            "text/plain": [
              "    radius_mean  texture_mean  perimeter_mean  area_mean  smoothness_mean  \\\n",
              "19     0.310426      0.157254        0.301776   0.179343         0.407942   \n",
              "20     0.288655      0.202908        0.289130   0.159703         0.495487   \n",
              "21     0.119409      0.092323        0.114367   0.055313         0.449458   \n",
              "37     0.286289      0.294555        0.268261   0.161315         0.335740   \n",
              "46     0.057504      0.241123        0.054730   0.024772         0.301444   \n",
              "\n",
              "    compactness_mean  concavity_mean  concave points_mean  symmetry_mean  \\\n",
              "19          0.189877        0.156045             0.237575       0.416667   \n",
              "20          0.330061        0.107076             0.154573       0.458081   \n",
              "21          0.139571        0.069353             0.103380       0.381313   \n",
              "37          0.056135        0.059981             0.145129       0.205556   \n",
              "46          0.122699        0.037254             0.029324       0.358081   \n",
              "\n",
              "    fractal_dimension_mean  ...  texture_worst  perimeter_worst  area_worst  \\\n",
              "19                0.162447  ...       0.192964         0.245480    0.129276   \n",
              "20                0.381857  ...       0.225746         0.227501    0.109443   \n",
              "21                0.400844  ...       0.097015         0.073310    0.031877   \n",
              "37                0.181435  ...       0.287580         0.169580    0.088650   \n",
              "46                0.316456  ...       0.264925         0.034115    0.014009   \n",
              "\n",
              "    smoothness_worst  compactness_worst  concavity_worst  \\\n",
              "19          0.480845           0.145532         0.190895   \n",
              "20          0.396301           0.242845         0.150958   \n",
              "21          0.404227           0.084894         0.070847   \n",
              "37          0.170410           0.018337         0.038578   \n",
              "46          0.386394           0.105171         0.054952   \n",
              "\n",
              "    concave points_worst  symmetry_worst  fractal_dimension_worst  \\\n",
              "19              0.442612        0.278336                 0.115410   \n",
              "20              0.250172        0.319141                 0.175738   \n",
              "21              0.214089        0.174453                 0.148852   \n",
              "37              0.172165        0.083185                 0.043934   \n",
              "46              0.087973        0.303568                 0.125246   \n",
              "\n",
              "    diagnosis_encoded  \n",
              "19                  0  \n",
              "20                  0  \n",
              "21                  0  \n",
              "37                  0  \n",
              "46                  0  \n",
              "\n",
              "[5 rows x 31 columns]"
            ]
          },
          "execution_count": 18,
          "metadata": {},
          "output_type": "execute_result"
        }
      ],
      "source": [
        "# handling class imbalance by oversampling the minority\n",
        "#The minority class is upsampled to match the majority dataset count to resolve thiss\n",
        "\n",
        "# Separate majority and minority classes\n",
        "majority_class = df[df['diagnosis_encoded'] == 0]\n",
        "minority_class = df[df['diagnosis_encoded'] == 1]\n",
        "\n",
        "# Upsample the minority class\n",
        "minority_upsampled = resample(minority_class,\n",
        "                              replace=True,\n",
        "                              n_samples=len(majority_class),\n",
        "                              random_state=42)\n",
        "\n",
        "# Combine the upsampled minority class with the majority class\n",
        "df = pd.concat([majority_class, minority_upsampled])\n",
        "df.head()"
      ]
    },
    {
      "cell_type": "code",
      "execution_count": 19,
      "metadata": {
        "colab": {
          "base_uri": "https://localhost:8080/"
        },
        "id": "nlOpuFrMTHUB",
        "outputId": "10fc2e61-de38-4089-aff6-245c13e91d3e"
      },
      "outputs": [
        {
          "data": {
            "text/plain": [
              "0    357\n",
              "1    357\n",
              "Name: diagnosis_encoded, dtype: int64"
            ]
          },
          "execution_count": 19,
          "metadata": {},
          "output_type": "execute_result"
        }
      ],
      "source": [
        "df['diagnosis_encoded'].value_counts()"
      ]
    },
    {
      "cell_type": "code",
      "execution_count": 20,
      "metadata": {
        "colab": {
          "base_uri": "https://localhost:8080/",
          "height": 273
        },
        "id": "2NsLvfnNX5ue",
        "outputId": "1900ff75-8690-466c-e39e-404ea6aa3f07"
      },
      "outputs": [
        {
          "data": {
            "text/html": [
              "<div>\n",
              "<style scoped>\n",
              "    .dataframe tbody tr th:only-of-type {\n",
              "        vertical-align: middle;\n",
              "    }\n",
              "\n",
              "    .dataframe tbody tr th {\n",
              "        vertical-align: top;\n",
              "    }\n",
              "\n",
              "    .dataframe thead th {\n",
              "        text-align: right;\n",
              "    }\n",
              "</style>\n",
              "<table border=\"1\" class=\"dataframe\">\n",
              "  <thead>\n",
              "    <tr style=\"text-align: right;\">\n",
              "      <th></th>\n",
              "      <th>radius_mean</th>\n",
              "      <th>texture_mean</th>\n",
              "      <th>perimeter_mean</th>\n",
              "      <th>area_mean</th>\n",
              "      <th>smoothness_mean</th>\n",
              "      <th>compactness_mean</th>\n",
              "      <th>concavity_mean</th>\n",
              "      <th>concave points_mean</th>\n",
              "      <th>symmetry_mean</th>\n",
              "      <th>fractal_dimension_mean</th>\n",
              "      <th>...</th>\n",
              "      <th>texture_worst</th>\n",
              "      <th>perimeter_worst</th>\n",
              "      <th>area_worst</th>\n",
              "      <th>smoothness_worst</th>\n",
              "      <th>compactness_worst</th>\n",
              "      <th>concavity_worst</th>\n",
              "      <th>concave points_worst</th>\n",
              "      <th>symmetry_worst</th>\n",
              "      <th>fractal_dimension_worst</th>\n",
              "      <th>diagnosis_encoded</th>\n",
              "    </tr>\n",
              "  </thead>\n",
              "  <tbody>\n",
              "    <tr>\n",
              "      <th>19</th>\n",
              "      <td>0.310426</td>\n",
              "      <td>0.157254</td>\n",
              "      <td>0.301776</td>\n",
              "      <td>0.179343</td>\n",
              "      <td>0.407942</td>\n",
              "      <td>0.189877</td>\n",
              "      <td>0.156045</td>\n",
              "      <td>0.237575</td>\n",
              "      <td>0.416667</td>\n",
              "      <td>0.162447</td>\n",
              "      <td>...</td>\n",
              "      <td>0.192964</td>\n",
              "      <td>0.245480</td>\n",
              "      <td>0.129276</td>\n",
              "      <td>0.480845</td>\n",
              "      <td>0.145532</td>\n",
              "      <td>0.190895</td>\n",
              "      <td>0.442612</td>\n",
              "      <td>0.278336</td>\n",
              "      <td>0.115410</td>\n",
              "      <td>0</td>\n",
              "    </tr>\n",
              "    <tr>\n",
              "      <th>20</th>\n",
              "      <td>0.288655</td>\n",
              "      <td>0.202908</td>\n",
              "      <td>0.289130</td>\n",
              "      <td>0.159703</td>\n",
              "      <td>0.495487</td>\n",
              "      <td>0.330061</td>\n",
              "      <td>0.107076</td>\n",
              "      <td>0.154573</td>\n",
              "      <td>0.458081</td>\n",
              "      <td>0.381857</td>\n",
              "      <td>...</td>\n",
              "      <td>0.225746</td>\n",
              "      <td>0.227501</td>\n",
              "      <td>0.109443</td>\n",
              "      <td>0.396301</td>\n",
              "      <td>0.242845</td>\n",
              "      <td>0.150958</td>\n",
              "      <td>0.250172</td>\n",
              "      <td>0.319141</td>\n",
              "      <td>0.175738</td>\n",
              "      <td>0</td>\n",
              "    </tr>\n",
              "    <tr>\n",
              "      <th>21</th>\n",
              "      <td>0.119409</td>\n",
              "      <td>0.092323</td>\n",
              "      <td>0.114367</td>\n",
              "      <td>0.055313</td>\n",
              "      <td>0.449458</td>\n",
              "      <td>0.139571</td>\n",
              "      <td>0.069353</td>\n",
              "      <td>0.103380</td>\n",
              "      <td>0.381313</td>\n",
              "      <td>0.400844</td>\n",
              "      <td>...</td>\n",
              "      <td>0.097015</td>\n",
              "      <td>0.073310</td>\n",
              "      <td>0.031877</td>\n",
              "      <td>0.404227</td>\n",
              "      <td>0.084894</td>\n",
              "      <td>0.070847</td>\n",
              "      <td>0.214089</td>\n",
              "      <td>0.174453</td>\n",
              "      <td>0.148852</td>\n",
              "      <td>0</td>\n",
              "    </tr>\n",
              "    <tr>\n",
              "      <th>37</th>\n",
              "      <td>0.286289</td>\n",
              "      <td>0.294555</td>\n",
              "      <td>0.268261</td>\n",
              "      <td>0.161315</td>\n",
              "      <td>0.335740</td>\n",
              "      <td>0.056135</td>\n",
              "      <td>0.059981</td>\n",
              "      <td>0.145129</td>\n",
              "      <td>0.205556</td>\n",
              "      <td>0.181435</td>\n",
              "      <td>...</td>\n",
              "      <td>0.287580</td>\n",
              "      <td>0.169580</td>\n",
              "      <td>0.088650</td>\n",
              "      <td>0.170410</td>\n",
              "      <td>0.018337</td>\n",
              "      <td>0.038578</td>\n",
              "      <td>0.172165</td>\n",
              "      <td>0.083185</td>\n",
              "      <td>0.043934</td>\n",
              "      <td>0</td>\n",
              "    </tr>\n",
              "    <tr>\n",
              "      <th>46</th>\n",
              "      <td>0.057504</td>\n",
              "      <td>0.241123</td>\n",
              "      <td>0.054730</td>\n",
              "      <td>0.024772</td>\n",
              "      <td>0.301444</td>\n",
              "      <td>0.122699</td>\n",
              "      <td>0.037254</td>\n",
              "      <td>0.029324</td>\n",
              "      <td>0.358081</td>\n",
              "      <td>0.316456</td>\n",
              "      <td>...</td>\n",
              "      <td>0.264925</td>\n",
              "      <td>0.034115</td>\n",
              "      <td>0.014009</td>\n",
              "      <td>0.386394</td>\n",
              "      <td>0.105171</td>\n",
              "      <td>0.054952</td>\n",
              "      <td>0.087973</td>\n",
              "      <td>0.303568</td>\n",
              "      <td>0.125246</td>\n",
              "      <td>0</td>\n",
              "    </tr>\n",
              "  </tbody>\n",
              "</table>\n",
              "<p>5 rows × 31 columns</p>\n",
              "</div>"
            ],
            "text/plain": [
              "    radius_mean  texture_mean  perimeter_mean  area_mean  smoothness_mean  \\\n",
              "19     0.310426      0.157254        0.301776   0.179343         0.407942   \n",
              "20     0.288655      0.202908        0.289130   0.159703         0.495487   \n",
              "21     0.119409      0.092323        0.114367   0.055313         0.449458   \n",
              "37     0.286289      0.294555        0.268261   0.161315         0.335740   \n",
              "46     0.057504      0.241123        0.054730   0.024772         0.301444   \n",
              "\n",
              "    compactness_mean  concavity_mean  concave points_mean  symmetry_mean  \\\n",
              "19          0.189877        0.156045             0.237575       0.416667   \n",
              "20          0.330061        0.107076             0.154573       0.458081   \n",
              "21          0.139571        0.069353             0.103380       0.381313   \n",
              "37          0.056135        0.059981             0.145129       0.205556   \n",
              "46          0.122699        0.037254             0.029324       0.358081   \n",
              "\n",
              "    fractal_dimension_mean  ...  texture_worst  perimeter_worst  area_worst  \\\n",
              "19                0.162447  ...       0.192964         0.245480    0.129276   \n",
              "20                0.381857  ...       0.225746         0.227501    0.109443   \n",
              "21                0.400844  ...       0.097015         0.073310    0.031877   \n",
              "37                0.181435  ...       0.287580         0.169580    0.088650   \n",
              "46                0.316456  ...       0.264925         0.034115    0.014009   \n",
              "\n",
              "    smoothness_worst  compactness_worst  concavity_worst  \\\n",
              "19          0.480845           0.145532         0.190895   \n",
              "20          0.396301           0.242845         0.150958   \n",
              "21          0.404227           0.084894         0.070847   \n",
              "37          0.170410           0.018337         0.038578   \n",
              "46          0.386394           0.105171         0.054952   \n",
              "\n",
              "    concave points_worst  symmetry_worst  fractal_dimension_worst  \\\n",
              "19              0.442612        0.278336                 0.115410   \n",
              "20              0.250172        0.319141                 0.175738   \n",
              "21              0.214089        0.174453                 0.148852   \n",
              "37              0.172165        0.083185                 0.043934   \n",
              "46              0.087973        0.303568                 0.125246   \n",
              "\n",
              "    diagnosis_encoded  \n",
              "19                  0  \n",
              "20                  0  \n",
              "21                  0  \n",
              "37                  0  \n",
              "46                  0  \n",
              "\n",
              "[5 rows x 31 columns]"
            ]
          },
          "execution_count": 20,
          "metadata": {},
          "output_type": "execute_result"
        }
      ],
      "source": [
        "df.head()"
      ]
    },
    {
      "cell_type": "markdown",
      "metadata": {},
      "source": [
        "# Paper Techniques for Feature Selection"
      ]
    },
    {
      "cell_type": "markdown",
      "metadata": {},
      "source": [
        "# The First stage of feature selection"
      ]
    },
    {
      "cell_type": "markdown",
      "metadata": {},
      "source": [
        "### Identifying pairs of features with a correlation coefficient higher than 0.8, one of the features is dropped to avoid multicollinearity\n",
        "\n",
        "(14 features will be removed and the remaining is 16)\n",
        "\n"
      ]
    },
    {
      "cell_type": "code",
      "execution_count": 22,
      "metadata": {},
      "outputs": [],
      "source": [
        "x=df.drop('diagnosis_encoded', axis=1)\n",
        "y = df['diagnosis_encoded']"
      ]
    },
    {
      "cell_type": "code",
      "execution_count": 23,
      "metadata": {},
      "outputs": [
        {
          "data": {
            "text/html": [
              "<div>\n",
              "<style scoped>\n",
              "    .dataframe tbody tr th:only-of-type {\n",
              "        vertical-align: middle;\n",
              "    }\n",
              "\n",
              "    .dataframe tbody tr th {\n",
              "        vertical-align: top;\n",
              "    }\n",
              "\n",
              "    .dataframe thead th {\n",
              "        text-align: right;\n",
              "    }\n",
              "</style>\n",
              "<table border=\"1\" class=\"dataframe\">\n",
              "  <thead>\n",
              "    <tr style=\"text-align: right;\">\n",
              "      <th></th>\n",
              "      <th>radius_mean</th>\n",
              "      <th>texture_mean</th>\n",
              "      <th>perimeter_mean</th>\n",
              "      <th>area_mean</th>\n",
              "      <th>smoothness_mean</th>\n",
              "      <th>compactness_mean</th>\n",
              "      <th>concavity_mean</th>\n",
              "      <th>concave points_mean</th>\n",
              "      <th>symmetry_mean</th>\n",
              "      <th>fractal_dimension_mean</th>\n",
              "      <th>...</th>\n",
              "      <th>radius_worst</th>\n",
              "      <th>texture_worst</th>\n",
              "      <th>perimeter_worst</th>\n",
              "      <th>area_worst</th>\n",
              "      <th>smoothness_worst</th>\n",
              "      <th>compactness_worst</th>\n",
              "      <th>concavity_worst</th>\n",
              "      <th>concave points_worst</th>\n",
              "      <th>symmetry_worst</th>\n",
              "      <th>fractal_dimension_worst</th>\n",
              "    </tr>\n",
              "  </thead>\n",
              "  <tbody>\n",
              "    <tr>\n",
              "      <th>19</th>\n",
              "      <td>0.310426</td>\n",
              "      <td>0.157254</td>\n",
              "      <td>0.301776</td>\n",
              "      <td>0.179343</td>\n",
              "      <td>0.407942</td>\n",
              "      <td>0.189877</td>\n",
              "      <td>0.156045</td>\n",
              "      <td>0.237575</td>\n",
              "      <td>0.416667</td>\n",
              "      <td>0.162447</td>\n",
              "      <td>...</td>\n",
              "      <td>0.255425</td>\n",
              "      <td>0.192964</td>\n",
              "      <td>0.245480</td>\n",
              "      <td>0.129276</td>\n",
              "      <td>0.480845</td>\n",
              "      <td>0.145532</td>\n",
              "      <td>0.190895</td>\n",
              "      <td>0.442612</td>\n",
              "      <td>0.278336</td>\n",
              "      <td>0.115410</td>\n",
              "    </tr>\n",
              "    <tr>\n",
              "      <th>20</th>\n",
              "      <td>0.288655</td>\n",
              "      <td>0.202908</td>\n",
              "      <td>0.289130</td>\n",
              "      <td>0.159703</td>\n",
              "      <td>0.495487</td>\n",
              "      <td>0.330061</td>\n",
              "      <td>0.107076</td>\n",
              "      <td>0.154573</td>\n",
              "      <td>0.458081</td>\n",
              "      <td>0.381857</td>\n",
              "      <td>...</td>\n",
              "      <td>0.233725</td>\n",
              "      <td>0.225746</td>\n",
              "      <td>0.227501</td>\n",
              "      <td>0.109443</td>\n",
              "      <td>0.396301</td>\n",
              "      <td>0.242845</td>\n",
              "      <td>0.150958</td>\n",
              "      <td>0.250172</td>\n",
              "      <td>0.319141</td>\n",
              "      <td>0.175738</td>\n",
              "    </tr>\n",
              "    <tr>\n",
              "      <th>21</th>\n",
              "      <td>0.119409</td>\n",
              "      <td>0.092323</td>\n",
              "      <td>0.114367</td>\n",
              "      <td>0.055313</td>\n",
              "      <td>0.449458</td>\n",
              "      <td>0.139571</td>\n",
              "      <td>0.069353</td>\n",
              "      <td>0.103380</td>\n",
              "      <td>0.381313</td>\n",
              "      <td>0.400844</td>\n",
              "      <td>...</td>\n",
              "      <td>0.081821</td>\n",
              "      <td>0.097015</td>\n",
              "      <td>0.073310</td>\n",
              "      <td>0.031877</td>\n",
              "      <td>0.404227</td>\n",
              "      <td>0.084894</td>\n",
              "      <td>0.070847</td>\n",
              "      <td>0.214089</td>\n",
              "      <td>0.174453</td>\n",
              "      <td>0.148852</td>\n",
              "    </tr>\n",
              "    <tr>\n",
              "      <th>37</th>\n",
              "      <td>0.286289</td>\n",
              "      <td>0.294555</td>\n",
              "      <td>0.268261</td>\n",
              "      <td>0.161315</td>\n",
              "      <td>0.335740</td>\n",
              "      <td>0.056135</td>\n",
              "      <td>0.059981</td>\n",
              "      <td>0.145129</td>\n",
              "      <td>0.205556</td>\n",
              "      <td>0.181435</td>\n",
              "      <td>...</td>\n",
              "      <td>0.191035</td>\n",
              "      <td>0.287580</td>\n",
              "      <td>0.169580</td>\n",
              "      <td>0.088650</td>\n",
              "      <td>0.170410</td>\n",
              "      <td>0.018337</td>\n",
              "      <td>0.038578</td>\n",
              "      <td>0.172165</td>\n",
              "      <td>0.083185</td>\n",
              "      <td>0.043934</td>\n",
              "    </tr>\n",
              "    <tr>\n",
              "      <th>46</th>\n",
              "      <td>0.057504</td>\n",
              "      <td>0.241123</td>\n",
              "      <td>0.054730</td>\n",
              "      <td>0.024772</td>\n",
              "      <td>0.301444</td>\n",
              "      <td>0.122699</td>\n",
              "      <td>0.037254</td>\n",
              "      <td>0.029324</td>\n",
              "      <td>0.358081</td>\n",
              "      <td>0.316456</td>\n",
              "      <td>...</td>\n",
              "      <td>0.036784</td>\n",
              "      <td>0.264925</td>\n",
              "      <td>0.034115</td>\n",
              "      <td>0.014009</td>\n",
              "      <td>0.386394</td>\n",
              "      <td>0.105171</td>\n",
              "      <td>0.054952</td>\n",
              "      <td>0.087973</td>\n",
              "      <td>0.303568</td>\n",
              "      <td>0.125246</td>\n",
              "    </tr>\n",
              "  </tbody>\n",
              "</table>\n",
              "<p>5 rows × 30 columns</p>\n",
              "</div>"
            ],
            "text/plain": [
              "    radius_mean  texture_mean  perimeter_mean  area_mean  smoothness_mean  \\\n",
              "19     0.310426      0.157254        0.301776   0.179343         0.407942   \n",
              "20     0.288655      0.202908        0.289130   0.159703         0.495487   \n",
              "21     0.119409      0.092323        0.114367   0.055313         0.449458   \n",
              "37     0.286289      0.294555        0.268261   0.161315         0.335740   \n",
              "46     0.057504      0.241123        0.054730   0.024772         0.301444   \n",
              "\n",
              "    compactness_mean  concavity_mean  concave points_mean  symmetry_mean  \\\n",
              "19          0.189877        0.156045             0.237575       0.416667   \n",
              "20          0.330061        0.107076             0.154573       0.458081   \n",
              "21          0.139571        0.069353             0.103380       0.381313   \n",
              "37          0.056135        0.059981             0.145129       0.205556   \n",
              "46          0.122699        0.037254             0.029324       0.358081   \n",
              "\n",
              "    fractal_dimension_mean  ...  radius_worst  texture_worst  perimeter_worst  \\\n",
              "19                0.162447  ...      0.255425       0.192964         0.245480   \n",
              "20                0.381857  ...      0.233725       0.225746         0.227501   \n",
              "21                0.400844  ...      0.081821       0.097015         0.073310   \n",
              "37                0.181435  ...      0.191035       0.287580         0.169580   \n",
              "46                0.316456  ...      0.036784       0.264925         0.034115   \n",
              "\n",
              "    area_worst  smoothness_worst  compactness_worst  concavity_worst  \\\n",
              "19    0.129276          0.480845           0.145532         0.190895   \n",
              "20    0.109443          0.396301           0.242845         0.150958   \n",
              "21    0.031877          0.404227           0.084894         0.070847   \n",
              "37    0.088650          0.170410           0.018337         0.038578   \n",
              "46    0.014009          0.386394           0.105171         0.054952   \n",
              "\n",
              "    concave points_worst  symmetry_worst  fractal_dimension_worst  \n",
              "19              0.442612        0.278336                 0.115410  \n",
              "20              0.250172        0.319141                 0.175738  \n",
              "21              0.214089        0.174453                 0.148852  \n",
              "37              0.172165        0.083185                 0.043934  \n",
              "46              0.087973        0.303568                 0.125246  \n",
              "\n",
              "[5 rows x 30 columns]"
            ]
          },
          "execution_count": 23,
          "metadata": {},
          "output_type": "execute_result"
        }
      ],
      "source": [
        "x.head()"
      ]
    },
    {
      "cell_type": "code",
      "execution_count": 24,
      "metadata": {},
      "outputs": [
        {
          "data": {
            "text/plain": [
              "<Axes: >"
            ]
          },
          "execution_count": 24,
          "metadata": {},
          "output_type": "execute_result"
        },
        {
          "data": {
            "image/png": "[encoded data removed]",
            "text/plain": [
              "<Figure size 1080x720 with 1 Axes>"
            ]
          },
          "metadata": {
            "needs_background": "light"
          },
          "output_type": "display_data"
        }
      ],
      "source": [
        "plt.figure(figsize=(15,10))\n",
        "sns.heatmap(x.corr(),cmap='viridis',annot=True,cbar=False)"
      ]
    },
    {
      "cell_type": "markdown",
      "metadata": {},
      "source": [
        "Set Features1"
      ]
    },
    {
      "cell_type": "code",
      "execution_count": 25,
      "metadata": {},
      "outputs": [],
      "source": [
        "# Calculate the Pearson correlation matrix\n",
        "corr_matrix = x.corr().abs()\n",
        "# Create a mask to identify highly correlated features\n",
        "mask = np.triu(np.ones_like(corr_matrix, dtype=bool))\n",
        "# Find pairs of features with correlation coefficient > 0.8\n",
        "high_corr_pairs = np.where(mask & (corr_matrix > 0.8))\n",
        "# Set to store the features to drop\n",
        "features_to_drop = set()\n",
        "# Iterate over the indices of highly correlated feature pairs\n",
        "for i, j in zip(*high_corr_pairs):\n",
        "    if i != j:\n",
        "        feature_i = corr_matrix.columns[i]\n",
        "        feature_j = corr_matrix.columns[j]\n",
        "        if feature_i not in features_to_drop:\n",
        "            features_to_drop.add(feature_j)\n",
        "# Drop the selected features from your dataset\n",
        "df_filtered = x.drop(features_to_drop, axis=1)"
      ]
    },
    {
      "cell_type": "code",
      "execution_count": 26,
      "metadata": {},
      "outputs": [
        {
          "data": {
            "text/plain": [
              "Index(['radius_mean', 'texture_mean', 'smoothness_mean', 'compactness_mean',\n",
              "       'symmetry_mean', 'fractal_dimension_mean', 'radius_se', 'texture_se',\n",
              "       'smoothness_se', 'compactness_se', 'concave points_se', 'symmetry_se',\n",
              "       'fractal_dimension_se', 'smoothness_worst', 'symmetry_worst',\n",
              "       'fractal_dimension_worst'],\n",
              "      dtype='object')"
            ]
          },
          "execution_count": 26,
          "metadata": {},
          "output_type": "execute_result"
        }
      ],
      "source": [
        "df_filtered.columns"
      ]
    },
    {
      "cell_type": "code",
      "execution_count": 27,
      "metadata": {},
      "outputs": [
        {
          "data": {
            "text/plain": [
              "16"
            ]
          },
          "execution_count": 27,
          "metadata": {},
          "output_type": "execute_result"
        }
      ],
      "source": [
        "len(df_filtered.columns)"
      ]
    },
    {
      "cell_type": "code",
      "execution_count": 28,
      "metadata": {},
      "outputs": [
        {
          "name": "stdout",
          "output_type": "stream",
          "text": [
            "Features that are in the list but not in set F1:\n",
            "['compactness_se', 'compactness_mean', 'radius_se', 'radius_mean', 'concave points_se']\n"
          ]
        }
      ],
      "source": [
        "extracted_features_list = [\n",
        "   'radius_mean', 'texture_mean', 'smoothness_mean', 'compactness_mean',\n",
        "    'symmetry_mean', 'fractal_dimension_mean', 'radius_se', 'texture_se',\n",
        "    'smoothness_se', 'compactness_se', 'concave points_se', 'symmetry_se',\n",
        "    'fractal_dimension_se', 'smoothness_worst', 'symmetry_worst',\n",
        "    'fractal_dimension_worst'\n",
        "]\n",
        "\n",
        "Given_features_list = {\n",
        "    'texture_mean', 'area_mean', 'smoothness_mean', 'concavity_mean',\n",
        "    'symmetry_mean', 'fractal_dimension_mean', 'texture_se', 'area_se',\n",
        "    'smoothness_se', 'concavity_se', 'symmetry_se', 'fractal_dimension_se',\n",
        "    'smoothness_worst', 'compactness_worst', 'symmetry_worst',\n",
        "    'fractal_dimension_worst'\n",
        "}\n",
        "\n",
        "# Convert the list to a set for easy comparison\n",
        "extracted_features_list = set(extracted_features_list)\n",
        "\n",
        "# Find features that are in the feature list but not in set F1\n",
        "not_common_features = extracted_features_list - Given_features_list\n",
        "\n",
        "# Convert back to a list if required\n",
        "not_common_features_list = list(not_common_features)\n",
        "\n",
        "# Print or use the features that are not common between the list and set F1\n",
        "print(\"Features that are in the list but not in set F1:\")\n",
        "print(not_common_features_list)\n",
        "\n",
        "extracted_features_list = list(extracted_features_list)\n"
      ]
    },
    {
      "cell_type": "code",
      "execution_count": 30,
      "metadata": {},
      "outputs": [
        {
          "name": "stdout",
          "output_type": "stream",
          "text": [
            "Accuracy is:  0.9790209790209791\n"
          ]
        },
        {
          "data": {
            "text/plain": [
              "<Axes: >"
            ]
          },
          "execution_count": 30,
          "metadata": {},
          "output_type": "execute_result"
        },
        {
          "data": {
            "image/png": "[encoded data removed]",
            "text/plain": [
              "<Figure size 432x288 with 2 Axes>"
            ]
          },
          "metadata": {
            "needs_background": "light"
          },
          "output_type": "display_data"
        }
      ],
      "source": [
        "x_train, x_test_corrcoeff, y_train, y_test_corrcoeff = train_test_split(df_filtered, y, test_size=0.2, random_state=42)\n",
        "\n",
        "#random forest classifier with n_estimators=10 (default)\n",
        "clf_rf = RandomForestClassifier(random_state=43)\n",
        "clr_rf = clf_rf.fit(x_train,y_train)\n",
        "\n",
        "ac = accuracy_score(y_test_corrcoeff,clf_rf.predict(x_test_corrcoeff))\n",
        "print('Accuracy is: ',ac)\n",
        "cm = confusion_matrix(y_test_corrcoeff,clf_rf.predict(x_test_corrcoeff))\n",
        "sns.heatmap(cm,annot=True,fmt=\"d\")"
      ]
    },
    {
      "cell_type": "markdown",
      "metadata": {
        "id": "NJUSL2yiX5ue"
      },
      "source": [
        "# Manual Feature Selection"
      ]
    },
    {
      "cell_type": "markdown",
      "metadata": {
        "id": "1R5ZHpHSX5uf"
      },
      "source": [
        "# Visualization"
      ]
    },
    {
      "cell_type": "markdown",
      "metadata": {
        "id": "HxvGX-VwX5uf"
      },
      "source": [
        "First ten features"
      ]
    },
    {
      "cell_type": "code",
      "execution_count": null,
      "metadata": {
        "colab": {
          "base_uri": "https://localhost:8080/",
          "height": 1000
        },
        "id": "YKthHdZzX5uf",
        "outputId": "2a6ef1e9-c152-49ac-9f46-034e0efbccd3"
      },
      "outputs": [],
      "source": [
        "# first ten features\n",
        "data = x\n",
        "data_n_2 = (data - data.mean()) / (data.std())              # standardization\n",
        "data = pd.concat([y, data_n_2.iloc[:, 0:10]],axis=1)\n",
        "data = pd.melt(data,id_vars=\"diagnosis_encoded\",\n",
        "                    var_name=\"features\",\n",
        "                    value_name='value')\n",
        "plt.figure(figsize=(10,10))\n",
        "sns.violinplot(x=\"features\", y=\"value\", hue=\"diagnosis_encoded\", data=data,split=True, inner=\"quart\")\n",
        "plt.xticks(rotation=90)"
      ]
    },
    {
      "cell_type": "markdown",
      "metadata": {
        "id": "ReC48O38X5uf"
      },
      "source": [
        "In area_mean feature, median of the Malignant and Benign looks like separated so it can be good for classification. However, in fractal_dimension_mean feature, median of the Malignant and Benign does not looks like separated so it does not gives good information for classification."
      ]
    },
    {
      "cell_type": "markdown",
      "metadata": {
        "id": "HoVzl2PXX5uf"
      },
      "source": [
        "second Ten features"
      ]
    },
    {
      "cell_type": "code",
      "execution_count": null,
      "metadata": {
        "colab": {
          "base_uri": "https://localhost:8080/",
          "height": 1000
        },
        "id": "3JkhhlsgX5ug",
        "outputId": "3fd3f12d-ee61-4cda-db7d-0595fbe892e4"
      },
      "outputs": [],
      "source": [
        "data = pd.concat([y,data_n_2.iloc[:,20:31]],axis=1)\n",
        "data = pd.melt(data,id_vars=\"diagnosis_encoded\",\n",
        "                    var_name=\"features\",\n",
        "                    value_name='value')\n",
        "plt.figure(figsize=(10,10))\n",
        "sns.violinplot(x=\"features\", y=\"value\", hue=\"diagnosis_encoded\", data=data,split=True, inner=\"quart\")\n",
        "plt.xticks(rotation=90)"
      ]
    },
    {
      "cell_type": "markdown",
      "metadata": {
        "id": "O0GGjgBNX5ug"
      },
      "source": [
        "## Outliers"
      ]
    },
    {
      "cell_type": "code",
      "execution_count": null,
      "metadata": {
        "colab": {
          "base_uri": "https://localhost:8080/",
          "height": 1000
        },
        "id": "xQnI3e1LX5ug",
        "outputId": "48457e6e-416b-47c9-8d4f-2943b461a1fa"
      },
      "outputs": [],
      "source": [
        "plt.figure(figsize=(10,10))\n",
        "sns.boxplot(x=\"features\", y=\"value\", hue=\"diagnosis_encoded\", data=data)\n",
        "plt.xticks(rotation=90)"
      ]
    },
    {
      "cell_type": "code",
      "execution_count": null,
      "metadata": {
        "colab": {
          "base_uri": "https://localhost:8080/",
          "height": 766
        },
        "id": "d0B5MaDtX5ug",
        "outputId": "c764731c-d672-479b-fdda-93ef7252b028"
      },
      "outputs": [],
      "source": [
        "sns.set(style=\"white\")\n",
        "xx = x.loc[:,['radius_worst','perimeter_worst','area_worst']]\n",
        "g = sns.PairGrid(xx, diag_sharey=False)\n",
        "g.map_lower(sns.kdeplot, cmap=\"Blues_d\")\n",
        "g.map_upper(plt.scatter)\n",
        "g.map_diag(sns.kdeplot, lw=3)"
      ]
    },
    {
      "cell_type": "markdown",
      "metadata": {
        "id": "PiXNa-kWX5ug"
      },
      "source": [
        " radius_worst, perimeter_worst and area_worst are correlated as it can be seen in pair grid plot."
      ]
    },
    {
      "cell_type": "code",
      "execution_count": null,
      "metadata": {
        "colab": {
          "base_uri": "https://localhost:8080/",
          "height": 766
        },
        "id": "FIUVcxr4X5ug",
        "outputId": "76b55220-09e2-4303-c8f0-f343f277719c"
      },
      "outputs": [],
      "source": [
        "sns.set(style=\"white\")\n",
        "xx = x.loc[:,['compactness_mean', 'concavity_mean' , 'concave points_mean']]\n",
        "g = sns.PairGrid(xx, diag_sharey=False)\n",
        "g.map_lower(sns.kdeplot, cmap=\"Blues_d\")\n",
        "g.map_upper(plt.scatter)\n",
        "g.map_diag(sns.kdeplot, lw=3)"
      ]
    },
    {
      "cell_type": "markdown",
      "metadata": {
        "id": "NDIcleJ5X5ug"
      },
      "source": [
        "Compactness_mean, concavity_mean and concave points_mean are correlated with each other."
      ]
    },
    {
      "cell_type": "code",
      "execution_count": null,
      "metadata": {
        "colab": {
          "base_uri": "https://localhost:8080/",
          "height": 771
        },
        "id": "tEd80lo2X5ug",
        "outputId": "ae300877-e3c8-4132-ccb2-5f3d3e832739"
      },
      "outputs": [],
      "source": [
        "sns.set(style=\"white\")\n",
        "xx = x.loc[:,['radius_se', 'perimeter_se' , 'area_se' ]]\n",
        "g = sns.PairGrid(xx, diag_sharey=False)\n",
        "g.map_lower(sns.kdeplot, cmap=\"Blues_d\")\n",
        "g.map_upper(plt.scatter)\n",
        "g.map_diag(sns.kdeplot, lw=3)"
      ]
    },
    {
      "cell_type": "markdown",
      "metadata": {
        "id": "16YD3UQuX5uh"
      },
      "source": [
        "radius_se, perimeter_se and area_se are correlated"
      ]
    },
    {
      "cell_type": "code",
      "execution_count": null,
      "metadata": {
        "colab": {
          "base_uri": "https://localhost:8080/",
          "height": 766
        },
        "id": "GaVbbLMCX5uk",
        "outputId": "a20b6af1-5927-402f-ad47-603febb0faca"
      },
      "outputs": [],
      "source": [
        "sns.set(style=\"white\")\n",
        "xx = x.loc[:,['radius_worst', 'perimeter_worst' , 'area_worst' ]]\n",
        "g = sns.PairGrid(xx, diag_sharey=False)\n",
        "g.map_lower(sns.kdeplot, cmap=\"Blues_d\")\n",
        "g.map_upper(plt.scatter)\n",
        "g.map_diag(sns.kdeplot, lw=3)"
      ]
    },
    {
      "cell_type": "markdown",
      "metadata": {
        "id": "eqtgoOuBX5uk"
      },
      "source": [
        "radius_worst, perimeter_worst and area_worst are correlated"
      ]
    },
    {
      "cell_type": "code",
      "execution_count": null,
      "metadata": {
        "colab": {
          "base_uri": "https://localhost:8080/",
          "height": 766
        },
        "id": "io4wuzurX5uk",
        "outputId": "84eef3e9-5336-4bbc-fbbc-05e89508db27"
      },
      "outputs": [],
      "source": [
        "sns.set(style=\"white\")\n",
        "xx = x.loc[:,['compactness_worst', 'concavity_worst' , 'concave points_worst' ]]\n",
        "g = sns.PairGrid(xx, diag_sharey=False)\n",
        "g.map_lower(sns.kdeplot, cmap=\"Blues_d\")\n",
        "g.map_upper(plt.scatter)\n",
        "g.map_diag(sns.kdeplot, lw=3)"
      ]
    },
    {
      "cell_type": "markdown",
      "metadata": {
        "id": "6KU1rMtUX5uk"
      },
      "source": [
        "Compactness_worst, concavity_worst and concave points_worst are correlated"
      ]
    },
    {
      "cell_type": "code",
      "execution_count": null,
      "metadata": {
        "colab": {
          "base_uri": "https://localhost:8080/",
          "height": 766
        },
        "id": "sUvxGxJmX5ul",
        "outputId": "091d78c4-2d76-4103-dfa5-150729a7376f"
      },
      "outputs": [],
      "source": [
        "sns.set(style=\"white\")\n",
        "xx = x.loc[:,['compactness_se', 'concavity_se' , 'concave points_se']]\n",
        "g = sns.PairGrid(xx, diag_sharey=False)\n",
        "g.map_lower(sns.kdeplot, cmap=\"Blues_d\")\n",
        "g.map_upper(plt.scatter)\n",
        "g.map_diag(sns.kdeplot, lw=3)"
      ]
    },
    {
      "cell_type": "markdown",
      "metadata": {
        "id": "MFrfZAm7X5ul"
      },
      "source": [
        "Compactness_se, concavity_se and concave points_se are correlated\n"
      ]
    },
    {
      "cell_type": "code",
      "execution_count": null,
      "metadata": {
        "colab": {
          "base_uri": "https://localhost:8080/",
          "height": 1000
        },
        "id": "BwQjOhCmX5ul",
        "outputId": "083754ca-3503-47c8-d93e-1ca65936f894"
      },
      "outputs": [],
      "source": [
        "plt.figure(figsize=(15,10))\n",
        "sns.heatmap(x.corr(),cmap='viridis',annot=True,cbar=False)"
      ]
    },
    {
      "cell_type": "markdown",
      "metadata": {
        "id": "1yaimw9cX5ul"
      },
      "source": [
        " radius_mean, perimeter_mean and area_mean are correlated with each other so we will use only area_mean.\n",
        "\n",
        " 'texture_worst'and 'texture_mean' are correlated with each other so we will use only texture mean.\n",
        "\n",
        " 'area_worst'and 'area_mean' are correlated with each other so we will use only area_mean."
      ]
    },
    {
      "cell_type": "markdown",
      "metadata": {
        "id": "OJnXKs2PX5ul"
      },
      "source": [
        "# Conclusion\n",
        "\n",
        "\n",
        "### Compactness_mean, concavity_mean and concave points_mean are correlated with each other. so we only choose concavity_mean.\n",
        "\n",
        "### radius_se, perimeter_se and area_se are correlated so we use area_se.\n",
        "\n",
        "### radius_worst, perimeter_worst and area_worst are correlated so we use area_worst.\n",
        "\n",
        "### Compactness_worst, concavity_worst and concave points_worst so weI use compactness_worst.\n",
        "\n",
        "### Compactness_se, concavity_se and concave points_se so weI use concavity_se.\n",
        "\n",
        "### radius_mean, perimeter_mean and area_mean are correlated with each other so we will use only area_mean.\n",
        "\n",
        "### texture_worst and texture_mean are correlated with each other so we will use only texture mean.\n",
        "\n",
        "### area_worst and area_mean are correlated with each other so we will use only texture mean.\n"
      ]
    },
    {
      "cell_type": "code",
      "execution_count": 23,
      "metadata": {
        "colab": {
          "base_uri": "https://localhost:8080/",
          "height": 226
        },
        "id": "w07cxZlBX5ul",
        "outputId": "b5305e3f-8d16-4425-81ca-15e850e6b8ca"
      },
      "outputs": [
        {
          "data": {
            "text/html": [
              "<div>\n",
              "<style scoped>\n",
              "    .dataframe tbody tr th:only-of-type {\n",
              "        vertical-align: middle;\n",
              "    }\n",
              "\n",
              "    .dataframe tbody tr th {\n",
              "        vertical-align: top;\n",
              "    }\n",
              "\n",
              "    .dataframe thead th {\n",
              "        text-align: right;\n",
              "    }\n",
              "</style>\n",
              "<table border=\"1\" class=\"dataframe\">\n",
              "  <thead>\n",
              "    <tr style=\"text-align: right;\">\n",
              "      <th></th>\n",
              "      <th>texture_mean</th>\n",
              "      <th>area_mean</th>\n",
              "      <th>smoothness_mean</th>\n",
              "      <th>concavity_mean</th>\n",
              "      <th>symmetry_mean</th>\n",
              "      <th>fractal_dimension_mean</th>\n",
              "      <th>texture_se</th>\n",
              "      <th>area_se</th>\n",
              "      <th>smoothness_se</th>\n",
              "      <th>concavity_se</th>\n",
              "      <th>symmetry_se</th>\n",
              "      <th>fractal_dimension_se</th>\n",
              "      <th>smoothness_worst</th>\n",
              "      <th>compactness_worst</th>\n",
              "      <th>symmetry_worst</th>\n",
              "      <th>fractal_dimension_worst</th>\n",
              "    </tr>\n",
              "  </thead>\n",
              "  <tbody>\n",
              "    <tr>\n",
              "      <th>19</th>\n",
              "      <td>0.157254</td>\n",
              "      <td>0.179343</td>\n",
              "      <td>0.407942</td>\n",
              "      <td>0.156045</td>\n",
              "      <td>0.416667</td>\n",
              "      <td>0.162447</td>\n",
              "      <td>0.094678</td>\n",
              "      <td>0.031300</td>\n",
              "      <td>0.231293</td>\n",
              "      <td>0.060354</td>\n",
              "      <td>0.167370</td>\n",
              "      <td>0.048443</td>\n",
              "      <td>0.480845</td>\n",
              "      <td>0.145532</td>\n",
              "      <td>0.278336</td>\n",
              "      <td>0.115410</td>\n",
              "    </tr>\n",
              "    <tr>\n",
              "      <th>20</th>\n",
              "      <td>0.202908</td>\n",
              "      <td>0.159703</td>\n",
              "      <td>0.495487</td>\n",
              "      <td>0.107076</td>\n",
              "      <td>0.458081</td>\n",
              "      <td>0.381857</td>\n",
              "      <td>0.085639</td>\n",
              "      <td>0.014696</td>\n",
              "      <td>0.081633</td>\n",
              "      <td>0.042929</td>\n",
              "      <td>0.125176</td>\n",
              "      <td>0.051903</td>\n",
              "      <td>0.396301</td>\n",
              "      <td>0.242845</td>\n",
              "      <td>0.319141</td>\n",
              "      <td>0.175738</td>\n",
              "    </tr>\n",
              "    <tr>\n",
              "      <th>21</th>\n",
              "      <td>0.092323</td>\n",
              "      <td>0.055313</td>\n",
              "      <td>0.449458</td>\n",
              "      <td>0.069353</td>\n",
              "      <td>0.381313</td>\n",
              "      <td>0.400844</td>\n",
              "      <td>0.136271</td>\n",
              "      <td>0.016619</td>\n",
              "      <td>0.268707</td>\n",
              "      <td>0.050000</td>\n",
              "      <td>0.174402</td>\n",
              "      <td>0.072664</td>\n",
              "      <td>0.404227</td>\n",
              "      <td>0.084894</td>\n",
              "      <td>0.174453</td>\n",
              "      <td>0.148852</td>\n",
              "    </tr>\n",
              "    <tr>\n",
              "      <th>37</th>\n",
              "      <td>0.294555</td>\n",
              "      <td>0.161315</td>\n",
              "      <td>0.335740</td>\n",
              "      <td>0.059981</td>\n",
              "      <td>0.205556</td>\n",
              "      <td>0.181435</td>\n",
              "      <td>0.437986</td>\n",
              "      <td>0.013743</td>\n",
              "      <td>0.091837</td>\n",
              "      <td>0.033838</td>\n",
              "      <td>0.264416</td>\n",
              "      <td>0.031142</td>\n",
              "      <td>0.170410</td>\n",
              "      <td>0.018337</td>\n",
              "      <td>0.083185</td>\n",
              "      <td>0.043934</td>\n",
              "    </tr>\n",
              "    <tr>\n",
              "      <th>46</th>\n",
              "      <td>0.241123</td>\n",
              "      <td>0.024772</td>\n",
              "      <td>0.301444</td>\n",
              "      <td>0.037254</td>\n",
              "      <td>0.358081</td>\n",
              "      <td>0.316456</td>\n",
              "      <td>0.131829</td>\n",
              "      <td>0.002620</td>\n",
              "      <td>0.248299</td>\n",
              "      <td>0.040152</td>\n",
              "      <td>0.250352</td>\n",
              "      <td>0.058824</td>\n",
              "      <td>0.386394</td>\n",
              "      <td>0.105171</td>\n",
              "      <td>0.303568</td>\n",
              "      <td>0.125246</td>\n",
              "    </tr>\n",
              "  </tbody>\n",
              "</table>\n",
              "</div>"
            ],
            "text/plain": [
              "    texture_mean  area_mean  smoothness_mean  concavity_mean  symmetry_mean  \\\n",
              "19      0.157254   0.179343         0.407942        0.156045       0.416667   \n",
              "20      0.202908   0.159703         0.495487        0.107076       0.458081   \n",
              "21      0.092323   0.055313         0.449458        0.069353       0.381313   \n",
              "37      0.294555   0.161315         0.335740        0.059981       0.205556   \n",
              "46      0.241123   0.024772         0.301444        0.037254       0.358081   \n",
              "\n",
              "    fractal_dimension_mean  texture_se   area_se  smoothness_se  concavity_se  \\\n",
              "19                0.162447    0.094678  0.031300       0.231293      0.060354   \n",
              "20                0.381857    0.085639  0.014696       0.081633      0.042929   \n",
              "21                0.400844    0.136271  0.016619       0.268707      0.050000   \n",
              "37                0.181435    0.437986  0.013743       0.091837      0.033838   \n",
              "46                0.316456    0.131829  0.002620       0.248299      0.040152   \n",
              "\n",
              "    symmetry_se  fractal_dimension_se  smoothness_worst  compactness_worst  \\\n",
              "19     0.167370              0.048443          0.480845           0.145532   \n",
              "20     0.125176              0.051903          0.396301           0.242845   \n",
              "21     0.174402              0.072664          0.404227           0.084894   \n",
              "37     0.264416              0.031142          0.170410           0.018337   \n",
              "46     0.250352              0.058824          0.386394           0.105171   \n",
              "\n",
              "    symmetry_worst  fractal_dimension_worst  \n",
              "19        0.278336                 0.115410  \n",
              "20        0.319141                 0.175738  \n",
              "21        0.174453                 0.148852  \n",
              "37        0.083185                 0.043934  \n",
              "46        0.303568                 0.125246  "
            ]
          },
          "execution_count": 23,
          "metadata": {},
          "output_type": "execute_result"
        }
      ],
      "source": [
        "drop_list1 = ['perimeter_mean','radius_mean',\n",
        "              'compactness_mean','concave points_mean',\n",
        "              'radius_se','perimeter_se',\n",
        "              'radius_worst','perimeter_worst',\n",
        "              'concavity_worst','concave points_worst',\n",
        "              'compactness_se','concave points_se',\n",
        "              'texture_worst','area_worst']\n",
        "x_1 = x.drop(drop_list1,axis = 1 )        # do not modify x, we will use it later\n",
        "x_1.head()"
      ]
    },
    {
      "cell_type": "code",
      "execution_count": 24,
      "metadata": {
        "colab": {
          "base_uri": "https://localhost:8080/"
        },
        "id": "mCBAs9YQX5ul",
        "outputId": "9b071432-c5d2-4877-fe18-f686c2ae85fa"
      },
      "outputs": [
        {
          "data": {
            "text/plain": [
              "Index(['texture_mean', 'area_mean', 'smoothness_mean', 'concavity_mean',\n",
              "       'symmetry_mean', 'fractal_dimension_mean', 'texture_se', 'area_se',\n",
              "       'smoothness_se', 'concavity_se', 'symmetry_se', 'fractal_dimension_se',\n",
              "       'smoothness_worst', 'compactness_worst', 'symmetry_worst',\n",
              "       'fractal_dimension_worst'],\n",
              "      dtype='object')"
            ]
          },
          "execution_count": 24,
          "metadata": {},
          "output_type": "execute_result"
        }
      ],
      "source": [
        "x_1.columns"
      ]
    },
    {
      "cell_type": "code",
      "execution_count": 25,
      "metadata": {
        "colab": {
          "base_uri": "https://localhost:8080/"
        },
        "id": "P3QaIf8lX5um",
        "outputId": "6234053a-37bf-4b8a-ddd7-480516883393"
      },
      "outputs": [
        {
          "data": {
            "text/plain": [
              "16"
            ]
          },
          "execution_count": 25,
          "metadata": {},
          "output_type": "execute_result"
        }
      ],
      "source": [
        "len(x_1.columns)"
      ]
    },
    {
      "cell_type": "code",
      "execution_count": 26,
      "metadata": {
        "colab": {
          "base_uri": "https://localhost:8080/"
        },
        "id": "YptRMRSKX5um",
        "outputId": "922b429f-f651-4384-9261-e5b78884f1a2"
      },
      "outputs": [
        {
          "name": "stdout",
          "output_type": "stream",
          "text": [
            "Features that are in the list but not in set F1:\n",
            "[]\n"
          ]
        }
      ],
      "source": [
        "extracted_features_list = ['texture_mean', 'area_mean', 'smoothness_mean',\n",
        "       'concavity_mean', 'symmetry_mean', 'fractal_dimension_mean',\n",
        "       'texture_se', 'area_se', 'smoothness_se', 'concavity_se', 'symmetry_se',\n",
        "       'fractal_dimension_se', 'smoothness_worst', 'compactness_worst',\n",
        "       'symmetry_worst', 'fractal_dimension_worst']\n",
        "\n",
        "Given_features_list = {\n",
        "    'texture_mean', 'area_mean', 'smoothness_mean', 'concavity_mean',\n",
        "    'symmetry_mean', 'fractal_dimension_mean', 'texture_se', 'area_se',\n",
        "    'smoothness_se', 'concavity_se', 'symmetry_se', 'fractal_dimension_se',\n",
        "    'smoothness_worst', 'compactness_worst', 'symmetry_worst',\n",
        "    'fractal_dimension_worst'\n",
        "}\n",
        "\n",
        "# Convert the list to a set for easy comparison\n",
        "extracted_features_list = set(extracted_features_list)\n",
        "\n",
        "# Find features that are in the feature list but not in set F1\n",
        "not_common_features = extracted_features_list - Given_features_list\n",
        "\n",
        "# Convert back to a list if required\n",
        "not_common_features_list = list(not_common_features)\n",
        "\n",
        "# Print or use the features that are not common between the list and set F1\n",
        "print(\"Features that are in the list but not in set F1:\")\n",
        "print(not_common_features_list)\n"
      ]
    },
    {
      "cell_type": "code",
      "execution_count": 27,
      "metadata": {
        "id": "tIu1ert-X5um"
      },
      "outputs": [],
      "source": [
        "features_list = ['texture_mean', 'area_mean', 'smoothness_mean',\n",
        "       'concavity_mean', 'symmetry_mean', 'fractal_dimension_mean',\n",
        "       'texture_se', 'area_se', 'smoothness_se', 'concavity_se', 'symmetry_se',\n",
        "       'fractal_dimension_se', 'smoothness_worst', 'compactness_worst',\n",
        "       'symmetry_worst', 'fractal_dimension_worst']"
      ]
    },
    {
      "cell_type": "code",
      "execution_count": 28,
      "metadata": {
        "colab": {
          "base_uri": "https://localhost:8080/"
        },
        "id": "oPOQ9NdVX5un",
        "outputId": "a870052a-e72f-4897-8f73-267ba172c4ac"
      },
      "outputs": [
        {
          "data": {
            "text/plain": [
              "16"
            ]
          },
          "execution_count": 28,
          "metadata": {},
          "output_type": "execute_result"
        }
      ],
      "source": [
        "len(x_1.columns)"
      ]
    },
    {
      "cell_type": "markdown",
      "metadata": {
        "id": "rxJb4XgrX5un"
      },
      "source": [
        "# Base Model"
      ]
    },
    {
      "cell_type": "code",
      "execution_count": 29,
      "metadata": {
        "colab": {
          "base_uri": "https://localhost:8080/",
          "height": 469
        },
        "id": "rroE_EdjX5un",
        "outputId": "25137329-5392-4fe0-bb08-0915cf9bfab0"
      },
      "outputs": [
        {
          "name": "stdout",
          "output_type": "stream",
          "text": [
            "Accuracy is:  0.9790209790209791\n"
          ]
        },
        {
          "data": {
            "text/plain": [
              "<Axes: >"
            ]
          },
          "execution_count": 29,
          "metadata": {},
          "output_type": "execute_result"
        },
        {
          "data": {
            "image/png": "[encoded data removed]",
            "text/plain": [
              "<Figure size 432x288 with 2 Axes>"
            ]
          },
          "metadata": {
            "needs_background": "light"
          },
          "output_type": "display_data"
        }
      ],
      "source": [
        "from sklearn.model_selection import train_test_split\n",
        "from sklearn.ensemble import RandomForestClassifier\n",
        "from sklearn.metrics import f1_score,confusion_matrix\n",
        "from sklearn.metrics import accuracy_score\n",
        "\n",
        "# split data train 80 % and test 20 %\n",
        "x_train, x_test_F1, y_train, y_test_F1 = train_test_split(x_1, y, test_size=0.2, random_state=42)\n",
        "\n",
        "#random forest classifier with n_estimators=10 (default)\n",
        "clf_rf = RandomForestClassifier(random_state=43)\n",
        "clr_rf = clf_rf.fit(x_train,y_train)\n",
        "\n",
        "ac = accuracy_score(y_test_F1,clf_rf.predict(x_test_F1))\n",
        "print('Accuracy is: ',ac)\n",
        "cm = confusion_matrix(y_test_F1,clf_rf.predict(x_test_F1))\n",
        "sns.heatmap(cm,annot=True,fmt=\"d\")"
      ]
    },
    {
      "cell_type": "markdown",
      "metadata": {
        "id": "_plbPjfkX5uo"
      },
      "source": [
        "# The second stage of feature selection"
      ]
    },
    {
      "cell_type": "markdown",
      "metadata": {
        "id": "ScLUbEkBX5uo"
      },
      "source": [
        "The second stage is based on three different methods- Recursive Feature Elimination, Logistic Regression, and Univariate Selection(ANOVA F-value)\n"
      ]
    },
    {
      "cell_type": "markdown",
      "metadata": {
        "id": "JBokx0tTpNYJ"
      },
      "source": [
        "### Recursive Feature Elimination"
      ]
    },
    {
      "cell_type": "code",
      "execution_count": 39,
      "metadata": {
        "colab": {
          "base_uri": "https://localhost:8080/"
        },
        "id": "D9DA6YuWa3eH",
        "outputId": "4ee35a6c-61a9-4471-e66f-a7e237357e68"
      },
      "outputs": [
        {
          "name": "stdout",
          "output_type": "stream",
          "text": [
            "Top 8 features by RFE: Index(['texture_mean', 'area_mean', 'concavity_mean', 'area_se',\n",
            "       'concavity_se', 'smoothness_worst', 'compactness_worst',\n",
            "       'symmetry_worst'],\n",
            "      dtype='object')\n"
          ]
        }
      ],
      "source": [
        "#Recursive Feature Elimination\n",
        "\n",
        "X_minimal = x[['texture_mean', 'area_mean', 'concavity_mean', 'fractal_dimension_mean', 'area_se', 'smoothness_worst', 'compactness_worst', 'symmetry_worst']]\n",
        "X_F1 = x[['texture_mean', 'area_mean', 'smoothness_mean', 'concavity_mean','symmetry_mean', 'fractal_dimension_mean', 'texture_se', 'area_se','smoothness_se', 'concavity_se', 'symmetry_se', 'fractal_dimension_se', 'smoothness_worst', 'compactness_worst', 'symmetry_worst', 'fractal_dimension_worst']]\n",
        "\n",
        "# Create an instance of the Extra Trees classifier\n",
        "estimator = ExtraTreesClassifier()\n",
        "\n",
        "# Create the RFE object with the Extra Trees classifier and the desired number of features to keep\n",
        "rfe = RFE(estimator, n_features_to_select=8)\n",
        "\n",
        "# Perform RFE feature selection\n",
        "X_RFE_selected = rfe.fit(X_F1, y)\n",
        "\n",
        "# Extract the selected features using the support_ attribute of the RFE object\n",
        "selected_RFE_indices = rfe.support_\n",
        "\n",
        "# Get the names of the selected features\n",
        "X_RFE_selected = X_F1.columns[selected_RFE_indices]\n",
        "\n",
        "# Print or use the selected features\n",
        "print(f\"Top 8 features by RFE: {X_RFE_selected}\")"
      ]
    },
    {
      "cell_type": "markdown",
      "metadata": {
        "id": "05MxTpQfX5up"
      },
      "source": [
        "### Logistic Regression"
      ]
    },
    {
      "cell_type": "code",
      "execution_count": null,
      "metadata": {
        "id": "swxYLdRkjTQS"
      },
      "outputs": [],
      "source": [
        "# # Create and fit the Logistic Regression model\n",
        "# model = LogisticRegression(solver='liblinear')\n",
        "# model.fit(X, y)\n",
        "\n",
        "# # Calculate feature importance coefficients\n",
        "# coefficients = model.coef_.ravel()\n",
        "\n",
        "# # Create feature selection object\n",
        "# selector = SelectFromModel(model, max_features=8)\n",
        "\n",
        "# # Sort features by their absolute coefficient value\n",
        "# sorted_features = np.argsort(np.abs(coefficients))[::-1]\n",
        "\n",
        "# # Select the top 8 features\n",
        "# top_8_features = sorted_features[:8]\n",
        "\n",
        "# # Print the top 8 features\n",
        "# print(f\"Top 8 features (by importance): {X.columns[top_8_features]}\")\n",
        "\n",
        "# #save the top 8 features\n",
        "# X_LR_selected = X[X.columns[top_8_features]]"
      ]
    },
    {
      "cell_type": "code",
      "execution_count": 40,
      "metadata": {
        "colab": {
          "base_uri": "https://localhost:8080/"
        },
        "id": "yzIfvGPCX5up",
        "outputId": "0263c0a5-84fc-460b-d04c-d20965f2e284"
      },
      "outputs": [
        {
          "name": "stdout",
          "output_type": "stream",
          "text": [
            "Top 8 features LR: Index(['texture_mean', 'area_mean', 'concavity_mean', 'area_se',\n",
            "       'smoothness_worst', 'compactness_worst', 'symmetry_worst'],\n",
            "      dtype='object')\n"
          ]
        }
      ],
      "source": [
        "# Separate features and target variable\n",
        "X = df.drop('diagnosis_encoded', axis=True)\n",
        "y = df['diagnosis_encoded']\n",
        "X_F1 = X[['texture_mean', 'area_mean', 'smoothness_mean', 'concavity_mean','symmetry_mean', 'fractal_dimension_mean', 'texture_se', 'area_se','smoothness_se', 'concavity_se', 'symmetry_se', 'fractal_dimension_se', 'smoothness_worst', 'compactness_worst', 'symmetry_worst', 'fractal_dimension_worst']]\n",
        "\n",
        "# Create and fit the Logistic Regression model\n",
        "# model = LogisticRegression(solver='liblinear')\n",
        "model = LogisticRegression(C=0.0001)\n",
        "\n",
        "model.fit(X_F1, y)\n",
        "\n",
        "# Create feature selection object\n",
        "selector = SelectFromModel(model, max_features=8)\n",
        "\n",
        "# Fit the selector and get the transformed features\n",
        "X_LR_selected = selector.fit_transform(X_F1, y)\n",
        "\n",
        "# Get the indices of the selected features\n",
        "selected_indices = selector.get_support()\n",
        "\n",
        "# Get the names of the selected features\n",
        "X_LR_selected= X_F1.columns[selected_indices]\n",
        "\n",
        "# Print or use the selected features\n",
        "print(f\"Top 8 features LR: {X_LR_selected}\")\n"
      ]
    },
    {
      "cell_type": "markdown",
      "metadata": {
        "id": "P1gaRYGKX5up"
      },
      "source": [
        "### Univariate Selection(ANOVA F-value)\n",
        "\n"
      ]
    },
    {
      "cell_type": "code",
      "execution_count": 41,
      "metadata": {
        "colab": {
          "base_uri": "https://localhost:8080/"
        },
        "id": "TCSccrvwkT3M",
        "outputId": "21af5cee-9ad8-48c7-8e73-3cceb346fabe"
      },
      "outputs": [
        {
          "name": "stdout",
          "output_type": "stream",
          "text": [
            "Top 8 features by ANOVA F-value: Index(['texture_mean', 'area_mean', 'smoothness_mean', 'concavity_mean',\n",
            "       'area_se', 'smoothness_worst', 'compactness_worst', 'symmetry_worst'],\n",
            "      dtype='object')\n"
          ]
        }
      ],
      "source": [
        "X = df.drop('diagnosis_encoded', axis = True)\n",
        "y = df['diagnosis_encoded']\n",
        "\n",
        "# Create feature selection object\n",
        "selector = SelectKBest(f_classif, k=8)\n",
        "\n",
        "# Fit the feature selection object\n",
        "selector.fit_transform(X_F1, y)\n",
        "\n",
        "# Get the selected feature indices\n",
        "selected_features = selector.get_support(indices=True)\n",
        "\n",
        "ANOVA_selected = X_F1.columns[selected_features]\n",
        "# Print the selected features\n",
        "print(f\"Top 8 features by ANOVA F-value: {ANOVA_selected}\")"
      ]
    },
    {
      "cell_type": "code",
      "execution_count": 42,
      "metadata": {
        "colab": {
          "base_uri": "https://localhost:8080/"
        },
        "id": "myBsQE3Pkkvu",
        "outputId": "9be936a5-da10-4d4e-ba3e-9ebfbf2f4b60"
      },
      "outputs": [
        {
          "name": "stdout",
          "output_type": "stream",
          "text": [
            "Features recommended by at least two methods: ['smoothness_worst', 'area_mean', 'texture_mean', 'area_se', 'concavity_mean', 'smoothness_mean', 'symmetry_worst', 'compactness_worst']\n"
          ]
        }
      ],
      "source": [
        "# Create an empty set to store the final selected features\n",
        "final_features = set()\n",
        "\n",
        "# Check each feature in the selected features of each method\n",
        "for feature in X_RFE_selected:\n",
        "    if feature in X_LR_selected or feature in ANOVA_selected:\n",
        "        final_features.add(feature)\n",
        "\n",
        "# Check remaining features in method2 and method3\n",
        "for feature in X_LR_selected:\n",
        "    if feature not in final_features and feature in ANOVA_selected:\n",
        "        final_features.add(feature)\n",
        "\n",
        "for feature in ANOVA_selected:\n",
        "    if feature not in final_features:\n",
        "        final_features.add(feature)\n",
        "\n",
        "# Convert set to list for further processing\n",
        "final_features_list = list(final_features)\n",
        "\n",
        "# Print the final list of selected features\n",
        "print(f\"Features recommended by at least two methods: {final_features_list}\")\n",
        "\n"
      ]
    },
    {
      "cell_type": "code",
      "execution_count": 43,
      "metadata": {},
      "outputs": [
        {
          "data": {
            "text/plain": [
              "8"
            ]
          },
          "execution_count": 43,
          "metadata": {},
          "output_type": "execute_result"
        }
      ],
      "source": [
        "len(final_features_list)"
      ]
    },
    {
      "cell_type": "code",
      "execution_count": 44,
      "metadata": {
        "colab": {
          "base_uri": "https://localhost:8080/"
        },
        "id": "eW5Dc6RkX5uq",
        "outputId": "abcec04c-3fc2-4632-8e3b-67faf7283118"
      },
      "outputs": [
        {
          "name": "stdout",
          "output_type": "stream",
          "text": [
            "Features in F2 but not common with our extracted features:\n",
            "['fractal_dimension_mean']\n"
          ]
        }
      ],
      "source": [
        "F2 = {\n",
        "    'texture_mean', 'area_mean', 'concavity_mean', 'fractal_dimension_mean',\n",
        "    'area_se', 'smoothness_worst', 'compactness_worst', 'symmetry_worst'\n",
        "}\n",
        "\n",
        "extracted_features = final_features_list\n",
        "# Convert recommended features to a set for easy comparison\n",
        "set_recommended_features = set(extracted_features)\n",
        "\n",
        "# Find features in F2 that are not common with the recommended features\n",
        "not_common_features = set(F2) - set_recommended_features\n",
        "\n",
        "# Display features that are in F2 but not in the recommended list\n",
        "print(\"Features in F2 but not common with our extracted features:\")\n",
        "print(list(not_common_features))\n"
      ]
    },
    {
      "cell_type": "code",
      "execution_count": 45,
      "metadata": {
        "colab": {
          "base_uri": "https://localhost:8080/",
          "height": 469
        },
        "id": "gCt06hjbX5uq",
        "outputId": "6013a88e-1fd8-4c74-c9f1-15335a54583e"
      },
      "outputs": [
        {
          "name": "stdout",
          "output_type": "stream",
          "text": [
            "Accuracy is:  0.965034965034965\n"
          ]
        },
        {
          "data": {
            "text/plain": [
              "<Axes: >"
            ]
          },
          "execution_count": 45,
          "metadata": {},
          "output_type": "execute_result"
        },
        {
          "data": {
            "image/png": "[encoded data removed]",
            "text/plain": [
              "<Figure size 432x288 with 2 Axes>"
            ]
          },
          "metadata": {
            "needs_background": "light"
          },
          "output_type": "display_data"
        }
      ],
      "source": [
        "df_final_features = df[final_features_list]\n",
        "x_train, x_test_minimal_extracted, y_train, y_test_minimal_extracted = train_test_split(df_final_features, y, test_size=0.2, random_state=42)\n",
        "\n",
        "#random forest classifier with n_estimators=10 (default)\n",
        "clf_rf = RandomForestClassifier(random_state=43)\n",
        "clr_rf = clf_rf.fit(x_train,y_train)\n",
        "\n",
        "ac = accuracy_score(y_test_minimal_extracted,clf_rf.predict(x_test_minimal_extracted))\n",
        "print('Accuracy is: ',ac)\n",
        "cm = confusion_matrix(y_test_minimal_extracted,clf_rf.predict(x_test_minimal_extracted))\n",
        "sns.heatmap(cm,annot=True,fmt=\"d\")"
      ]
    },
    {
      "cell_type": "markdown",
      "metadata": {
        "id": "MWfvqlIXX5uq"
      },
      "source": [
        "# Model Development"
      ]
    },
    {
      "cell_type": "code",
      "execution_count": 46,
      "metadata": {
        "colab": {
          "base_uri": "https://localhost:8080/"
        },
        "id": "hmfmFhD3D79t",
        "outputId": "46ba0f45-9145-4bdc-ddbd-116d19b852b1"
      },
      "outputs": [
        {
          "name": "stdout",
          "output_type": "stream",
          "text": [
            "Model: Random Forest\n",
            "Recall Scores (Initial Dataset): [1.         0.94366197 1.         1.         0.98591549]\n",
            "Recall Scores (Minimal Dataset): [1.         0.94366197 0.97222222 1.         1.        ]\n",
            "Model: Support Vector Machine\n",
            "Recall Scores (Initial Dataset): [0.97183099 0.92957746 0.97222222 0.98611111 0.97183099]\n",
            "Recall Scores (Minimal Dataset): [0.95774648 0.90140845 0.93055556 0.93055556 0.94366197]\n",
            "Model: Decision Tree\n",
            "Recall Scores (Initial Dataset): [1.         0.98591549 0.94444444 0.98611111 0.97183099]\n",
            "Recall Scores (Minimal Dataset): [1.         0.94366197 0.90277778 1.         1.        ]\n",
            "Model: Multilayer Perceptron\n",
            "Recall Scores (Initial Dataset): [0.97183099 0.95774648 0.97222222 0.97222222 0.94366197]\n",
            "Recall Scores (Minimal Dataset): [0.95774648 0.90140845 0.94444444 0.95833333 0.94366197]\n",
            "Model: K-Nearest Neighbors\n",
            "Recall Scores (Initial Dataset): [0.95774648 0.91549296 1.         1.         0.97183099]\n",
            "Recall Scores (Minimal Dataset): [0.92957746 0.88732394 0.94444444 1.         0.94366197]\n"
          ]
        }
      ],
      "source": [
        "from sklearn.ensemble import RandomForestClassifier\n",
        "from sklearn.svm import SVC\n",
        "from sklearn.tree import DecisionTreeClassifier\n",
        "from sklearn.neural_network import MLPClassifier\n",
        "from sklearn.neighbors import KNeighborsClassifier\n",
        "from sklearn.model_selection import cross_val_score\n",
        "from sklearn.model_selection import GridSearchCV\n",
        "\n",
        "import warnings\n",
        "warnings.filterwarnings(\"ignore\")\n",
        "\n",
        "\n",
        "\n",
        "# Models with default parameters\n",
        "rf_classifier = RandomForestClassifier()\n",
        "svm_classifier = SVC()\n",
        "dt_classifier = DecisionTreeClassifier()\n",
        "mlp_classifier = MLPClassifier()\n",
        "knn_classifier = KNeighborsClassifier()\n",
        "\n",
        "models = {\n",
        "    'Random Forest': rf_classifier,\n",
        "    'Support Vector Machine': svm_classifier,\n",
        "    'Decision Tree': dt_classifier,\n",
        "    'Multilayer Perceptron': mlp_classifier,\n",
        "    'K-Nearest Neighbors': knn_classifier\n",
        "}\n",
        "\n",
        "# 5-fold cross-validation with recall scoring\n",
        "for model_name, model in models.items():\n",
        "    recall_scores_initial = cross_val_score(model, X, y, cv=5, scoring='recall')\n",
        "    recall_scores_minimal = cross_val_score(model, df_final_features, y, cv=5, scoring='recall')\n",
        "\n",
        "    print(\"Model:\", model_name)\n",
        "    print(\"Recall Scores (Initial Dataset):\", recall_scores_initial)\n",
        "    print(\"Recall Scores (Minimal Dataset):\", recall_scores_minimal)\n",
        "\n"
      ]
    },
    {
      "cell_type": "code",
      "execution_count": 47,
      "metadata": {
        "colab": {
          "base_uri": "https://localhost:8080/"
        },
        "id": "3CnLNI37X5uq",
        "outputId": "b52cf76b-ffaa-49d2-b9cb-f45d1f013cc0"
      },
      "outputs": [
        {
          "name": "stdout",
          "output_type": "stream",
          "text": [
            "Random Forest - Grid Search Results:\n",
            "Best Parameters: {'criterion': 'entropy', 'max_depth': None, 'max_features': 'auto', 'min_samples_split': 2, 'n_estimators': 100}\n",
            "Best Recall Score: 0.9943661971830986\n",
            "Best Parameters minimal: {'criterion': 'gini', 'max_depth': None, 'max_features': 'auto', 'min_samples_split': 2, 'n_estimators': 100}\n",
            "Best Recall Score minimal: 0.9859937402190923\n"
          ]
        }
      ],
      "source": [
        "# Define the parameter grid for grid search\n",
        "param_grid = {\n",
        "    'n_estimators': [100, 200, 300],\n",
        "    'criterion': ['gini', 'entropy'],\n",
        "    'max_depth': [None, 10, 20],\n",
        "    'max_features': ['auto', 'sqrt', 'log2'],\n",
        "    'min_samples_split': [2, 5, 10]\n",
        "}\n",
        "\n",
        "# Create the Random Forest classifier\n",
        "random_forest = RandomForestClassifier()\n",
        "\n",
        "# Perform grid search with 5-fold cross-validation\n",
        "grid_search = GridSearchCV(estimator=random_forest, param_grid=param_grid, scoring='recall', cv=5)\n",
        "grid_search_minimal = GridSearchCV(estimator=random_forest, param_grid=param_grid, scoring='recall', cv=5)\n",
        "grid_search_minimal.fit(df_final_features,y)\n",
        "grid_search.fit(X, y)\n",
        "\n",
        "# Get the best parameters and the best recall score\n",
        "best_params = grid_search.best_params_\n",
        "best_recall_score = grid_search.best_score_\n",
        "\n",
        "best_params_minimal = grid_search_minimal.best_params_\n",
        "best_recall_score_minimal = grid_search_minimal.best_score_\n",
        "\n",
        "\n",
        "print(\"Random Forest - Grid Search Results:\")\n",
        "print(f\"Best Parameters: {best_params}\")\n",
        "print(f\"Best Recall Score: {best_recall_score}\")\n",
        "print(f\"Best Parameters minimal: {best_params_minimal}\")\n",
        "print(f\"Best Recall Score minimal: {best_recall_score_minimal}\")"
      ]
    },
    {
      "cell_type": "code",
      "execution_count": 48,
      "metadata": {
        "colab": {
          "base_uri": "https://localhost:8080/"
        },
        "id": "U7mvEUwpX5ur",
        "outputId": "e4e4c073-3dfc-425a-8986-e29e9d1c9f39"
      },
      "outputs": [
        {
          "name": "stdout",
          "output_type": "stream",
          "text": [
            "Support Vector Machine - Grid Search Results:\n",
            "Best Parameters: {'C': 10, 'gamma': 'scale', 'kernel': 'rbf'}\n",
            "Best Recall Score: 0.9831768388106417\n",
            "Decision Tree - Grid Search Results:\n",
            "Best Parameters: {'criterion': 'gini', 'max_depth': None, 'max_features': 'auto', 'min_samples_split': 2}\n",
            "Best Recall Score: 0.9944444444444445\n",
            "Multilayer Perceptron - Grid Search Results:\n",
            "Best Parameters: {'activation': 'relu', 'alpha': 0.001, 'hidden_layer_sizes': (100,), 'solver': 'sgd'}\n",
            "Best Recall Score: 0.9802816901408452\n",
            "K-Nearest Neighbors - Grid Search Results:\n",
            "Best Parameters: {'algorithm': 'auto', 'n_neighbors': 10, 'weights': 'distance'}\n",
            "Best Recall Score: 0.9887323943661972\n"
          ]
        }
      ],
      "source": [
        "# Define the parameter grids for grid search\n",
        "\n",
        "\n",
        "svm_param_grid = {\n",
        "    'C': [0.1, 1, 10],\n",
        "    'kernel': ['linear', 'rbf', 'sigmoid'],\n",
        "    'gamma': ['scale', 'auto']\n",
        "}\n",
        "\n",
        "decision_tree_param_grid = {\n",
        "    'criterion': ['gini', 'entropy'],\n",
        "    'max_depth': [None, 10, 20],\n",
        "    'max_features': ['auto', 'sqrt', 'log2'],\n",
        "    'min_samples_split': [2, 5, 10]\n",
        "}\n",
        "\n",
        "mlp_param_grid = {\n",
        "    'hidden_layer_sizes': [(100,), (100, 50), (50,)],\n",
        "    'activation': ['relu', 'tanh'],\n",
        "    'solver': ['adam', 'sgd'],\n",
        "    'alpha': [0.0001, 0.001]\n",
        "}\n",
        "\n",
        "knn_param_grid = {\n",
        "    'n_neighbors': [3, 5, 10],\n",
        "    'weights': ['uniform', 'distance'],\n",
        "    'algorithm': ['auto', 'ball_tree', 'kd_tree']\n",
        "}\n",
        "\n",
        "# Create the classifiers\n",
        "random_forest = RandomForestClassifier()\n",
        "svm = SVC()\n",
        "decision_tree = DecisionTreeClassifier()\n",
        "mlp = MLPClassifier()\n",
        "knn = KNeighborsClassifier()\n",
        "\n",
        "classifiers = [ svm, decision_tree, mlp, knn]\n",
        "classifier_names = [ 'Support Vector Machine', 'Decision Tree', 'Multilayer Perceptron', 'K-Nearest Neighbors']\n",
        "param_grids = [ svm_param_grid, decision_tree_param_grid, mlp_param_grid, knn_param_grid]\n",
        "\n",
        "# Perform grid search with 5-fold cross-validation for each classifier\n",
        "for classifier, classifier_name, param_grid in zip(classifiers, classifier_names, param_grids):\n",
        "    grid_search = GridSearchCV(estimator=classifier, param_grid=param_grid, scoring='recall', cv=5)\n",
        "    grid_search.fit(X, y)\n",
        "\n",
        "    best_params = grid_search.best_params_\n",
        "    best_recall_score = grid_search.best_score_\n",
        "\n",
        "    print(f\"{classifier_name} - Grid Search Results:\")\n",
        "    print(f\"Best Parameters: {best_params}\")\n",
        "    print(f\"Best Recall Score: {best_recall_score}\")\n",
        "\n"
      ]
    },
    {
      "cell_type": "code",
      "execution_count": 52,
      "metadata": {
        "colab": {
          "base_uri": "https://localhost:8080/"
        },
        "id": "xJo_n0Hud3ce",
        "outputId": "df27bc47-45b7-4eb4-fcbd-7e7328bd5b18"
      },
      "outputs": [
        {
          "name": "stdout",
          "output_type": "stream",
          "text": [
            "Random Forest - Best Recall Score: 0.9859154929577464\n"
          ]
        }
      ],
      "source": [
        "# Hyperparameters tuning for Random Forest using optimal parameters from Grid Search.\n",
        "\n",
        "param_grid = {\n",
        "    'n_estimators': [100],\n",
        "    'criterion': ['gini'],\n",
        "    'max_depth': [None],\n",
        "    'max_features': ['auto'],\n",
        "    'min_samples_split': [2]\n",
        "}\n",
        "\n",
        "rf_classifier_test = RandomForestClassifier()\n",
        "grid_search_test = GridSearchCV(rf_classifier_test, param_grid, cv=5, scoring='recall')\n",
        "grid_search_test.fit(X, y)\n",
        "\n",
        "print(\"Random Forest - Best Recall Score:\", grid_search_test.best_score_)"
      ]
    },
    {
      "cell_type": "markdown",
      "metadata": {
        "id": "I8DfDuvYgbQ7"
      },
      "source": [
        "### The optimal parameters according to the paper are different from the optimal parameters we inferred using Grid Search, our parameters gave higher accuracy. this maybe due to that the paper did not try the same combinations of parameters in their grid search or they used different random_state which can result in different outputs using same parameters."
      ]
    },
    {
      "cell_type": "code",
      "execution_count": 54,
      "metadata": {
        "colab": {
          "base_uri": "https://localhost:8080/"
        },
        "id": "RaQXS2ZzgVQ0",
        "outputId": "16cb5b38-f54a-4961-f8fa-fbe16c09da32"
      },
      "outputs": [
        {
          "name": "stdout",
          "output_type": "stream",
          "text": [
            "Random Forest - Recall Score: 0.9803599374021911\n"
          ]
        }
      ],
      "source": [
        "# Hyperparameters tuning for Random Forest using the paper's optimal parameters.\n",
        "param_grid = {\n",
        "    'n_estimators': [200],\n",
        "    'criterion': ['gini'],\n",
        "    'max_depth': [10,],\n",
        "    'max_features': ['log2'],\n",
        "    'min_samples_split': [2]\n",
        "}\n",
        "\n",
        "rf_classifier_test_paper = RandomForestClassifier()\n",
        "grid_search_test_paper = GridSearchCV(rf_classifier_test_paper, param_grid, cv=5, scoring='recall')\n",
        "grid_search_test_paper.fit(X, y)\n",
        "\n",
        "print(\"Random Forest - Recall Score:\", grid_search_test_paper.best_score_)"
      ]
    },
    {
      "cell_type": "markdown",
      "metadata": {},
      "source": [
        "# Evaluation"
      ]
    },
    {
      "cell_type": "markdown",
      "metadata": {},
      "source": [
        "### Metrics used\n",
        "    • Accuracy: The percentage of tumors whose malignancy was correctly predicted.\n",
        "    • Precision: TP / (TP + FP)\n",
        "    • Recall: TP / (TP + FN)\n",
        "    • F1 Score: (Precision * Recall) / (Precision + Recall)\n",
        "    • ROC-AUC Score: Area under the Receiver Operating Characteristic Curve\n",
        "\n",
        "### Models used \n",
        "    •Random Forest\n",
        "    •Support Vector Machine\n",
        "    •Decision Tree\n",
        "    •Multilayer Perceptron\n",
        "    •K-Nearest Neighbors\n"
      ]
    },
    {
      "cell_type": "code",
      "execution_count": 51,
      "metadata": {},
      "outputs": [],
      "source": [
        "x_train_F1, x_test_F1, y_train_F1, y_test_F1 = train_test_split(df_filtered, y, test_size=0.2, random_state=42)\n",
        "x_train_F2, x_test_F2, y_train_F2, y_test_F2 = train_test_split(df_final_features, y, test_size=0.2, random_state=42)"
      ]
    },
    {
      "cell_type": "code",
      "execution_count": 55,
      "metadata": {},
      "outputs": [],
      "source": [
        "import pandas as pd\n",
        "from sklearn.metrics import accuracy_score, precision_score, recall_score, f1_score, roc_auc_score\n",
        "from sklearn.ensemble import RandomForestClassifier\n",
        "from sklearn.svm import SVC\n",
        "from sklearn.tree import DecisionTreeClassifier\n",
        "from sklearn.neural_network import MLPClassifier\n",
        "from sklearn.neighbors import KNeighborsClassifier\n",
        "from sklearn.model_selection import train_test_split\n",
        "\n",
        "def evaluate_models(x_train, x_test, y_train, y_test):\n",
        "    # Best parameters obtained from grid search\n",
        "    rf_params = {'criterion': 'entropy', 'max_depth': None, 'max_features': 'auto', 'min_samples_split': 2, 'n_estimators': 100}\n",
        "    svm_params = {'C': 10, 'gamma': 'scale', 'kernel': 'rbf'}\n",
        "    dt_params = {'criterion': 'gini', 'max_depth': None, 'max_features': 'auto', 'min_samples_split': 2}\n",
        "    mlp_params = {'activation': 'relu', 'alpha': 0.001, 'hidden_layer_sizes': (100,), 'solver': 'sgd'}\n",
        "    knn_params = {'algorithm': 'auto', 'n_neighbors': 10, 'weights': 'distance'}\n",
        "\n",
        "    # Create instances of classifiers with the best parameters\n",
        "    rf_classifier = RandomForestClassifier(**rf_params)\n",
        "    svm_classifier = SVC(**svm_params)\n",
        "    dt_classifier = DecisionTreeClassifier(**dt_params)\n",
        "    mlp_classifier = MLPClassifier(**mlp_params)\n",
        "    knn_classifier = KNeighborsClassifier(**knn_params)\n",
        "\n",
        "    # List of classifiers and their names\n",
        "    classifiers = [\n",
        "        ('Random Forest', rf_classifier),\n",
        "        ('Support Vector Machine', svm_classifier),\n",
        "        ('Decision Tree', dt_classifier),\n",
        "        ('Multilayer Perceptron', mlp_classifier),\n",
        "        ('K-Nearest Neighbors', knn_classifier)\n",
        "    ]\n",
        "\n",
        "    # Store results for each model\n",
        "    results = []\n",
        "\n",
        "    # Loop through each classifier\n",
        "    for model_name, classifier in classifiers:\n",
        "        # Fit the model\n",
        "        classifier.fit(x_train, y_train)\n",
        "\n",
        "        # Make predictions\n",
        "        y_pred = classifier.predict(x_test)\n",
        "\n",
        "        # Calculate metrics\n",
        "        accuracy = round(accuracy_score(y_test, y_pred), 2)\n",
        "        precision = round(precision_score(y_test, y_pred), 2)\n",
        "        recall = round(recall_score(y_test, y_pred), 2)\n",
        "        f1 = round(f1_score(y_test, y_pred), 2)\n",
        "        roc_auc = round(roc_auc_score(y_test, y_pred), 2)\n",
        "\n",
        "        # Create DataFrame for the model's metrics\n",
        "        model_df = pd.DataFrame({\n",
        "            'Model': [model_name],\n",
        "            'Accuracy': [accuracy],\n",
        "            'Precision': [precision],\n",
        "            'Recall': [recall],\n",
        "            'F1 Score': [f1],\n",
        "            'ROC-AUC Score': [roc_auc]\n",
        "        })\n",
        "\n",
        "        # Append the DataFrame to the results list\n",
        "        results.append(model_df)\n",
        "\n",
        "    # Concatenate results into a single DataFrame\n",
        "    final_results = pd.concat(results, ignore_index=True)\n",
        "\n",
        "    return final_results\n"
      ]
    },
    {
      "cell_type": "markdown",
      "metadata": {},
      "source": [
        "# Models Performance on Initial Dataset (with F1 features)"
      ]
    },
    {
      "cell_type": "code",
      "execution_count": 56,
      "metadata": {},
      "outputs": [
        {
          "data": {
            "text/html": [
              "<div>\n",
              "<style scoped>\n",
              "    .dataframe tbody tr th:only-of-type {\n",
              "        vertical-align: middle;\n",
              "    }\n",
              "\n",
              "    .dataframe tbody tr th {\n",
              "        vertical-align: top;\n",
              "    }\n",
              "\n",
              "    .dataframe thead th {\n",
              "        text-align: right;\n",
              "    }\n",
              "</style>\n",
              "<table border=\"1\" class=\"dataframe\">\n",
              "  <thead>\n",
              "    <tr style=\"text-align: right;\">\n",
              "      <th></th>\n",
              "      <th>Model</th>\n",
              "      <th>Accuracy</th>\n",
              "      <th>Precision</th>\n",
              "      <th>Recall</th>\n",
              "      <th>F1 Score</th>\n",
              "      <th>ROC-AUC Score</th>\n",
              "    </tr>\n",
              "  </thead>\n",
              "  <tbody>\n",
              "    <tr>\n",
              "      <th>0</th>\n",
              "      <td>Random Forest</td>\n",
              "      <td>0.96</td>\n",
              "      <td>0.92</td>\n",
              "      <td>0.98</td>\n",
              "      <td>0.95</td>\n",
              "      <td>0.96</td>\n",
              "    </tr>\n",
              "    <tr>\n",
              "      <th>1</th>\n",
              "      <td>Support Vector Machine</td>\n",
              "      <td>0.98</td>\n",
              "      <td>0.97</td>\n",
              "      <td>0.98</td>\n",
              "      <td>0.98</td>\n",
              "      <td>0.98</td>\n",
              "    </tr>\n",
              "    <tr>\n",
              "      <th>2</th>\n",
              "      <td>Decision Tree</td>\n",
              "      <td>0.96</td>\n",
              "      <td>0.94</td>\n",
              "      <td>0.97</td>\n",
              "      <td>0.95</td>\n",
              "      <td>0.96</td>\n",
              "    </tr>\n",
              "    <tr>\n",
              "      <th>3</th>\n",
              "      <td>Multilayer Perceptron</td>\n",
              "      <td>0.85</td>\n",
              "      <td>0.76</td>\n",
              "      <td>0.95</td>\n",
              "      <td>0.84</td>\n",
              "      <td>0.86</td>\n",
              "    </tr>\n",
              "    <tr>\n",
              "      <th>4</th>\n",
              "      <td>K-Nearest Neighbors</td>\n",
              "      <td>0.98</td>\n",
              "      <td>0.98</td>\n",
              "      <td>0.97</td>\n",
              "      <td>0.98</td>\n",
              "      <td>0.98</td>\n",
              "    </tr>\n",
              "  </tbody>\n",
              "</table>\n",
              "</div>"
            ],
            "text/plain": [
              "                    Model  Accuracy  Precision  Recall  F1 Score  \\\n",
              "0           Random Forest      0.96       0.92    0.98      0.95   \n",
              "1  Support Vector Machine      0.98       0.97    0.98      0.98   \n",
              "2           Decision Tree      0.96       0.94    0.97      0.95   \n",
              "3   Multilayer Perceptron      0.85       0.76    0.95      0.84   \n",
              "4     K-Nearest Neighbors      0.98       0.98    0.97      0.98   \n",
              "\n",
              "   ROC-AUC Score  \n",
              "0           0.96  \n",
              "1           0.98  \n",
              "2           0.96  \n",
              "3           0.86  \n",
              "4           0.98  "
            ]
          },
          "execution_count": 56,
          "metadata": {},
          "output_type": "execute_result"
        }
      ],
      "source": [
        "F1_results = evaluate_models(x_train_F1, x_test_F1, y_train_F1, y_test_F1)\n",
        "F1_results"
      ]
    },
    {
      "cell_type": "markdown",
      "metadata": {},
      "source": [
        "# Models Performance on Minimal Dataset (with F2 features)"
      ]
    },
    {
      "cell_type": "code",
      "execution_count": 57,
      "metadata": {},
      "outputs": [
        {
          "data": {
            "text/html": [
              "<div>\n",
              "<style scoped>\n",
              "    .dataframe tbody tr th:only-of-type {\n",
              "        vertical-align: middle;\n",
              "    }\n",
              "\n",
              "    .dataframe tbody tr th {\n",
              "        vertical-align: top;\n",
              "    }\n",
              "\n",
              "    .dataframe thead th {\n",
              "        text-align: right;\n",
              "    }\n",
              "</style>\n",
              "<table border=\"1\" class=\"dataframe\">\n",
              "  <thead>\n",
              "    <tr style=\"text-align: right;\">\n",
              "      <th></th>\n",
              "      <th>Model</th>\n",
              "      <th>Accuracy</th>\n",
              "      <th>Precision</th>\n",
              "      <th>Recall</th>\n",
              "      <th>F1 Score</th>\n",
              "      <th>ROC-AUC Score</th>\n",
              "    </tr>\n",
              "  </thead>\n",
              "  <tbody>\n",
              "    <tr>\n",
              "      <th>0</th>\n",
              "      <td>Random Forest</td>\n",
              "      <td>0.98</td>\n",
              "      <td>0.95</td>\n",
              "      <td>1.00</td>\n",
              "      <td>0.98</td>\n",
              "      <td>0.98</td>\n",
              "    </tr>\n",
              "    <tr>\n",
              "      <th>1</th>\n",
              "      <td>Support Vector Machine</td>\n",
              "      <td>0.96</td>\n",
              "      <td>0.94</td>\n",
              "      <td>0.97</td>\n",
              "      <td>0.95</td>\n",
              "      <td>0.96</td>\n",
              "    </tr>\n",
              "    <tr>\n",
              "      <th>2</th>\n",
              "      <td>Decision Tree</td>\n",
              "      <td>0.96</td>\n",
              "      <td>0.92</td>\n",
              "      <td>0.98</td>\n",
              "      <td>0.95</td>\n",
              "      <td>0.96</td>\n",
              "    </tr>\n",
              "    <tr>\n",
              "      <th>3</th>\n",
              "      <td>Multilayer Perceptron</td>\n",
              "      <td>0.83</td>\n",
              "      <td>0.73</td>\n",
              "      <td>0.98</td>\n",
              "      <td>0.84</td>\n",
              "      <td>0.85</td>\n",
              "    </tr>\n",
              "    <tr>\n",
              "      <th>4</th>\n",
              "      <td>K-Nearest Neighbors</td>\n",
              "      <td>0.93</td>\n",
              "      <td>0.88</td>\n",
              "      <td>0.97</td>\n",
              "      <td>0.92</td>\n",
              "      <td>0.93</td>\n",
              "    </tr>\n",
              "  </tbody>\n",
              "</table>\n",
              "</div>"
            ],
            "text/plain": [
              "                    Model  Accuracy  Precision  Recall  F1 Score  \\\n",
              "0           Random Forest      0.98       0.95    1.00      0.98   \n",
              "1  Support Vector Machine      0.96       0.94    0.97      0.95   \n",
              "2           Decision Tree      0.96       0.92    0.98      0.95   \n",
              "3   Multilayer Perceptron      0.83       0.73    0.98      0.84   \n",
              "4     K-Nearest Neighbors      0.93       0.88    0.97      0.92   \n",
              "\n",
              "   ROC-AUC Score  \n",
              "0           0.98  \n",
              "1           0.96  \n",
              "2           0.96  \n",
              "3           0.85  \n",
              "4           0.93  "
            ]
          },
          "execution_count": 57,
          "metadata": {},
          "output_type": "execute_result"
        }
      ],
      "source": [
        "F2_results = evaluate_models(x_train_F2, x_test_F2, y_train_F2, y_test_F2)\n",
        "F2_results"
      ]
    },
    {
      "cell_type": "code",
      "execution_count": null,
      "metadata": {},
      "outputs": [],
      "source": []
    }
  ],
  "metadata": {
    "accelerator": "GPU",
    "colab": {
      "gpuType": "T4",
      "provenance": []
    },
    "kernelspec": {
      "display_name": "Python 3",
      "name": "python3"
    },
    "language_info": {
      "codemirror_mode": {
        "name": "ipython",
        "version": 3
      },
      "file_extension": ".py",
      "mimetype": "text/x-python",
      "name": "python",
      "nbconvert_exporter": "python",
      "pygments_lexer": "ipython3",
      "version": "3.9.7"
    }
  },
  "nbformat": 4,
  "nbformat_minor": 0
}
